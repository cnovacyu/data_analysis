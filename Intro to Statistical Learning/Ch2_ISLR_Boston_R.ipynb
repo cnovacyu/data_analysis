{
 "cells": [
  {
   "cell_type": "code",
   "execution_count": 1,
   "metadata": {},
   "outputs": [],
   "source": [
    "# a) Load the Boston data set from the MASS library in R\n",
    "library(MASS)"
   ]
  },
  {
   "cell_type": "code",
   "execution_count": 4,
   "metadata": {},
   "outputs": [
    {
     "data": {
      "text/html": [
       "<table>\n",
       "<caption>A data.frame: 5 × 14</caption>\n",
       "<thead>\n",
       "\t<tr><th></th><th scope=col>crim</th><th scope=col>zn</th><th scope=col>indus</th><th scope=col>chas</th><th scope=col>nox</th><th scope=col>rm</th><th scope=col>age</th><th scope=col>dis</th><th scope=col>rad</th><th scope=col>tax</th><th scope=col>ptratio</th><th scope=col>black</th><th scope=col>lstat</th><th scope=col>medv</th></tr>\n",
       "\t<tr><th></th><th scope=col>&lt;dbl&gt;</th><th scope=col>&lt;dbl&gt;</th><th scope=col>&lt;dbl&gt;</th><th scope=col>&lt;int&gt;</th><th scope=col>&lt;dbl&gt;</th><th scope=col>&lt;dbl&gt;</th><th scope=col>&lt;dbl&gt;</th><th scope=col>&lt;dbl&gt;</th><th scope=col>&lt;int&gt;</th><th scope=col>&lt;dbl&gt;</th><th scope=col>&lt;dbl&gt;</th><th scope=col>&lt;dbl&gt;</th><th scope=col>&lt;dbl&gt;</th><th scope=col>&lt;dbl&gt;</th></tr>\n",
       "</thead>\n",
       "<tbody>\n",
       "\t<tr><th scope=row>1</th><td>0.00632</td><td>18</td><td>2.31</td><td>0</td><td>0.538</td><td>6.575</td><td>65.2</td><td>4.0900</td><td>1</td><td>296</td><td>15.3</td><td>396.90</td><td>4.98</td><td>24.0</td></tr>\n",
       "\t<tr><th scope=row>2</th><td>0.02731</td><td> 0</td><td>7.07</td><td>0</td><td>0.469</td><td>6.421</td><td>78.9</td><td>4.9671</td><td>2</td><td>242</td><td>17.8</td><td>396.90</td><td>9.14</td><td>21.6</td></tr>\n",
       "\t<tr><th scope=row>3</th><td>0.02729</td><td> 0</td><td>7.07</td><td>0</td><td>0.469</td><td>7.185</td><td>61.1</td><td>4.9671</td><td>2</td><td>242</td><td>17.8</td><td>392.83</td><td>4.03</td><td>34.7</td></tr>\n",
       "\t<tr><th scope=row>4</th><td>0.03237</td><td> 0</td><td>2.18</td><td>0</td><td>0.458</td><td>6.998</td><td>45.8</td><td>6.0622</td><td>3</td><td>222</td><td>18.7</td><td>394.63</td><td>2.94</td><td>33.4</td></tr>\n",
       "\t<tr><th scope=row>5</th><td>0.06905</td><td> 0</td><td>2.18</td><td>0</td><td>0.458</td><td>7.147</td><td>54.2</td><td>6.0622</td><td>3</td><td>222</td><td>18.7</td><td>396.90</td><td>5.33</td><td>36.2</td></tr>\n",
       "</tbody>\n",
       "</table>\n"
      ],
      "text/latex": [
       "A data.frame: 5 × 14\n",
       "\\begin{tabular}{r|llllllllllllll}\n",
       "  & crim & zn & indus & chas & nox & rm & age & dis & rad & tax & ptratio & black & lstat & medv\\\\\n",
       "  & <dbl> & <dbl> & <dbl> & <int> & <dbl> & <dbl> & <dbl> & <dbl> & <int> & <dbl> & <dbl> & <dbl> & <dbl> & <dbl>\\\\\n",
       "\\hline\n",
       "\t1 & 0.00632 & 18 & 2.31 & 0 & 0.538 & 6.575 & 65.2 & 4.0900 & 1 & 296 & 15.3 & 396.90 & 4.98 & 24.0\\\\\n",
       "\t2 & 0.02731 &  0 & 7.07 & 0 & 0.469 & 6.421 & 78.9 & 4.9671 & 2 & 242 & 17.8 & 396.90 & 9.14 & 21.6\\\\\n",
       "\t3 & 0.02729 &  0 & 7.07 & 0 & 0.469 & 7.185 & 61.1 & 4.9671 & 2 & 242 & 17.8 & 392.83 & 4.03 & 34.7\\\\\n",
       "\t4 & 0.03237 &  0 & 2.18 & 0 & 0.458 & 6.998 & 45.8 & 6.0622 & 3 & 222 & 18.7 & 394.63 & 2.94 & 33.4\\\\\n",
       "\t5 & 0.06905 &  0 & 2.18 & 0 & 0.458 & 7.147 & 54.2 & 6.0622 & 3 & 222 & 18.7 & 396.90 & 5.33 & 36.2\\\\\n",
       "\\end{tabular}\n"
      ],
      "text/markdown": [
       "\n",
       "A data.frame: 5 × 14\n",
       "\n",
       "| <!--/--> | crim &lt;dbl&gt; | zn &lt;dbl&gt; | indus &lt;dbl&gt; | chas &lt;int&gt; | nox &lt;dbl&gt; | rm &lt;dbl&gt; | age &lt;dbl&gt; | dis &lt;dbl&gt; | rad &lt;int&gt; | tax &lt;dbl&gt; | ptratio &lt;dbl&gt; | black &lt;dbl&gt; | lstat &lt;dbl&gt; | medv &lt;dbl&gt; |\n",
       "|---|---|---|---|---|---|---|---|---|---|---|---|---|---|---|\n",
       "| 1 | 0.00632 | 18 | 2.31 | 0 | 0.538 | 6.575 | 65.2 | 4.0900 | 1 | 296 | 15.3 | 396.90 | 4.98 | 24.0 |\n",
       "| 2 | 0.02731 |  0 | 7.07 | 0 | 0.469 | 6.421 | 78.9 | 4.9671 | 2 | 242 | 17.8 | 396.90 | 9.14 | 21.6 |\n",
       "| 3 | 0.02729 |  0 | 7.07 | 0 | 0.469 | 7.185 | 61.1 | 4.9671 | 2 | 242 | 17.8 | 392.83 | 4.03 | 34.7 |\n",
       "| 4 | 0.03237 |  0 | 2.18 | 0 | 0.458 | 6.998 | 45.8 | 6.0622 | 3 | 222 | 18.7 | 394.63 | 2.94 | 33.4 |\n",
       "| 5 | 0.06905 |  0 | 2.18 | 0 | 0.458 | 7.147 | 54.2 | 6.0622 | 3 | 222 | 18.7 | 396.90 | 5.33 | 36.2 |\n",
       "\n"
      ],
      "text/plain": [
       "  crim    zn indus chas nox   rm    age  dis    rad tax ptratio black  lstat\n",
       "1 0.00632 18 2.31  0    0.538 6.575 65.2 4.0900 1   296 15.3    396.90 4.98 \n",
       "2 0.02731  0 7.07  0    0.469 6.421 78.9 4.9671 2   242 17.8    396.90 9.14 \n",
       "3 0.02729  0 7.07  0    0.469 7.185 61.1 4.9671 2   242 17.8    392.83 4.03 \n",
       "4 0.03237  0 2.18  0    0.458 6.998 45.8 6.0622 3   222 18.7    394.63 2.94 \n",
       "5 0.06905  0 2.18  0    0.458 7.147 54.2 6.0622 3   222 18.7    396.90 5.33 \n",
       "  medv\n",
       "1 24.0\n",
       "2 21.6\n",
       "3 34.7\n",
       "4 33.4\n",
       "5 36.2"
      ]
     },
     "metadata": {},
     "output_type": "display_data"
    }
   ],
   "source": [
    "head(Boston,5)"
   ]
  },
  {
   "cell_type": "code",
   "execution_count": 12,
   "metadata": {},
   "outputs": [],
   "source": [
    "?Boston"
   ]
  },
  {
   "cell_type": "code",
   "execution_count": 58,
   "metadata": {},
   "outputs": [
    {
     "data": {
      "text/plain": [
       "      crim                zn             indus            chas        \n",
       " Min.   : 0.00632   Min.   :  0.00   Min.   : 0.46   Min.   :0.00000  \n",
       " 1st Qu.: 0.08205   1st Qu.:  0.00   1st Qu.: 5.19   1st Qu.:0.00000  \n",
       " Median : 0.25651   Median :  0.00   Median : 9.69   Median :0.00000  \n",
       " Mean   : 3.61352   Mean   : 11.36   Mean   :11.14   Mean   :0.06917  \n",
       " 3rd Qu.: 3.67708   3rd Qu.: 12.50   3rd Qu.:18.10   3rd Qu.:0.00000  \n",
       " Max.   :88.97620   Max.   :100.00   Max.   :27.74   Max.   :1.00000  \n",
       "      nox               rm             age              dis        \n",
       " Min.   :0.3850   Min.   :3.561   Min.   :  2.90   Min.   : 1.130  \n",
       " 1st Qu.:0.4490   1st Qu.:5.886   1st Qu.: 45.02   1st Qu.: 2.100  \n",
       " Median :0.5380   Median :6.208   Median : 77.50   Median : 3.207  \n",
       " Mean   :0.5547   Mean   :6.285   Mean   : 68.57   Mean   : 3.795  \n",
       " 3rd Qu.:0.6240   3rd Qu.:6.623   3rd Qu.: 94.08   3rd Qu.: 5.188  \n",
       " Max.   :0.8710   Max.   :8.780   Max.   :100.00   Max.   :12.127  \n",
       "      rad              tax           ptratio          black       \n",
       " Min.   : 1.000   Min.   :187.0   Min.   :12.60   Min.   :  0.32  \n",
       " 1st Qu.: 4.000   1st Qu.:279.0   1st Qu.:17.40   1st Qu.:375.38  \n",
       " Median : 5.000   Median :330.0   Median :19.05   Median :391.44  \n",
       " Mean   : 9.549   Mean   :408.2   Mean   :18.46   Mean   :356.67  \n",
       " 3rd Qu.:24.000   3rd Qu.:666.0   3rd Qu.:20.20   3rd Qu.:396.23  \n",
       " Max.   :24.000   Max.   :711.0   Max.   :22.00   Max.   :396.90  \n",
       "     lstat            medv      \n",
       " Min.   : 1.73   Min.   : 5.00  \n",
       " 1st Qu.: 6.95   1st Qu.:17.02  \n",
       " Median :11.36   Median :21.20  \n",
       " Mean   :12.65   Mean   :22.53  \n",
       " 3rd Qu.:16.95   3rd Qu.:25.00  \n",
       " Max.   :37.97   Max.   :50.00  "
      ]
     },
     "metadata": {},
     "output_type": "display_data"
    }
   ],
   "source": [
    "summary(Boston)"
   ]
  },
  {
   "cell_type": "code",
   "execution_count": 6,
   "metadata": {},
   "outputs": [
    {
     "data": {
      "text/html": [
       "<style>\n",
       ".list-inline {list-style: none; margin:0; padding: 0}\n",
       ".list-inline>li {display: inline-block}\n",
       ".list-inline>li:not(:last-child)::after {content: \"\\00b7\"; padding: 0 .5ex}\n",
       "</style>\n",
       "<ol class=list-inline><li>506</li><li>14</li></ol>\n"
      ],
      "text/latex": [
       "\\begin{enumerate*}\n",
       "\\item 506\n",
       "\\item 14\n",
       "\\end{enumerate*}\n"
      ],
      "text/markdown": [
       "1. 506\n",
       "2. 14\n",
       "\n",
       "\n"
      ],
      "text/plain": [
       "[1] 506  14"
      ]
     },
     "metadata": {},
     "output_type": "display_data"
    }
   ],
   "source": [
    "# how many rows and columns are in the data set?\n",
    "# There are 506 rows of data (or observations) of different suburbs in Boston\n",
    "# and 14 different columns/variables/features describing the suburbs\n",
    "dim(Boston)"
   ]
  },
  {
   "cell_type": "code",
   "execution_count": 10,
   "metadata": {},
   "outputs": [
    {
     "data": {
      "image/png": "[encoded data removed]",
      "text/plain": [
       "plot without title"
      ]
     },
     "metadata": {
      "image/png": {
       "height": 420,
       "width": 420
      }
     },
     "output_type": "display_data"
    }
   ],
   "source": [
    "pairs(Boston)"
   ]
  },
  {
   "cell_type": "code",
   "execution_count": 11,
   "metadata": {},
   "outputs": [
    {
     "data": {
      "text/html": [
       "<table>\n",
       "<caption>A matrix: 14 × 14 of type dbl</caption>\n",
       "<thead>\n",
       "\t<tr><th></th><th scope=col>crim</th><th scope=col>zn</th><th scope=col>indus</th><th scope=col>chas</th><th scope=col>nox</th><th scope=col>rm</th><th scope=col>age</th><th scope=col>dis</th><th scope=col>rad</th><th scope=col>tax</th><th scope=col>ptratio</th><th scope=col>black</th><th scope=col>lstat</th><th scope=col>medv</th></tr>\n",
       "</thead>\n",
       "<tbody>\n",
       "\t<tr><th scope=row>crim</th><td> 1.00000000</td><td>-0.20046922</td><td> 0.40658341</td><td>-0.055891582</td><td> 0.42097171</td><td>-0.21924670</td><td> 0.35273425</td><td>-0.37967009</td><td> 0.625505145</td><td> 0.58276431</td><td> 0.2899456</td><td>-0.38506394</td><td> 0.4556215</td><td>-0.3883046</td></tr>\n",
       "\t<tr><th scope=row>zn</th><td>-0.20046922</td><td> 1.00000000</td><td>-0.53382819</td><td>-0.042696719</td><td>-0.51660371</td><td> 0.31199059</td><td>-0.56953734</td><td> 0.66440822</td><td>-0.311947826</td><td>-0.31456332</td><td>-0.3916785</td><td> 0.17552032</td><td>-0.4129946</td><td> 0.3604453</td></tr>\n",
       "\t<tr><th scope=row>indus</th><td> 0.40658341</td><td>-0.53382819</td><td> 1.00000000</td><td> 0.062938027</td><td> 0.76365145</td><td>-0.39167585</td><td> 0.64477851</td><td>-0.70802699</td><td> 0.595129275</td><td> 0.72076018</td><td> 0.3832476</td><td>-0.35697654</td><td> 0.6037997</td><td>-0.4837252</td></tr>\n",
       "\t<tr><th scope=row>chas</th><td>-0.05589158</td><td>-0.04269672</td><td> 0.06293803</td><td> 1.000000000</td><td> 0.09120281</td><td> 0.09125123</td><td> 0.08651777</td><td>-0.09917578</td><td>-0.007368241</td><td>-0.03558652</td><td>-0.1215152</td><td> 0.04878848</td><td>-0.0539293</td><td> 0.1752602</td></tr>\n",
       "\t<tr><th scope=row>nox</th><td> 0.42097171</td><td>-0.51660371</td><td> 0.76365145</td><td> 0.091202807</td><td> 1.00000000</td><td>-0.30218819</td><td> 0.73147010</td><td>-0.76923011</td><td> 0.611440563</td><td> 0.66802320</td><td> 0.1889327</td><td>-0.38005064</td><td> 0.5908789</td><td>-0.4273208</td></tr>\n",
       "\t<tr><th scope=row>rm</th><td>-0.21924670</td><td> 0.31199059</td><td>-0.39167585</td><td> 0.091251225</td><td>-0.30218819</td><td> 1.00000000</td><td>-0.24026493</td><td> 0.20524621</td><td>-0.209846668</td><td>-0.29204783</td><td>-0.3555015</td><td> 0.12806864</td><td>-0.6138083</td><td> 0.6953599</td></tr>\n",
       "\t<tr><th scope=row>age</th><td> 0.35273425</td><td>-0.56953734</td><td> 0.64477851</td><td> 0.086517774</td><td> 0.73147010</td><td>-0.24026493</td><td> 1.00000000</td><td>-0.74788054</td><td> 0.456022452</td><td> 0.50645559</td><td> 0.2615150</td><td>-0.27353398</td><td> 0.6023385</td><td>-0.3769546</td></tr>\n",
       "\t<tr><th scope=row>dis</th><td>-0.37967009</td><td> 0.66440822</td><td>-0.70802699</td><td>-0.099175780</td><td>-0.76923011</td><td> 0.20524621</td><td>-0.74788054</td><td> 1.00000000</td><td>-0.494587930</td><td>-0.53443158</td><td>-0.2324705</td><td> 0.29151167</td><td>-0.4969958</td><td> 0.2499287</td></tr>\n",
       "\t<tr><th scope=row>rad</th><td> 0.62550515</td><td>-0.31194783</td><td> 0.59512927</td><td>-0.007368241</td><td> 0.61144056</td><td>-0.20984667</td><td> 0.45602245</td><td>-0.49458793</td><td> 1.000000000</td><td> 0.91022819</td><td> 0.4647412</td><td>-0.44441282</td><td> 0.4886763</td><td>-0.3816262</td></tr>\n",
       "\t<tr><th scope=row>tax</th><td> 0.58276431</td><td>-0.31456332</td><td> 0.72076018</td><td>-0.035586518</td><td> 0.66802320</td><td>-0.29204783</td><td> 0.50645559</td><td>-0.53443158</td><td> 0.910228189</td><td> 1.00000000</td><td> 0.4608530</td><td>-0.44180801</td><td> 0.5439934</td><td>-0.4685359</td></tr>\n",
       "\t<tr><th scope=row>ptratio</th><td> 0.28994558</td><td>-0.39167855</td><td> 0.38324756</td><td>-0.121515174</td><td> 0.18893268</td><td>-0.35550149</td><td> 0.26151501</td><td>-0.23247054</td><td> 0.464741179</td><td> 0.46085304</td><td> 1.0000000</td><td>-0.17738330</td><td> 0.3740443</td><td>-0.5077867</td></tr>\n",
       "\t<tr><th scope=row>black</th><td>-0.38506394</td><td> 0.17552032</td><td>-0.35697654</td><td> 0.048788485</td><td>-0.38005064</td><td> 0.12806864</td><td>-0.27353398</td><td> 0.29151167</td><td>-0.444412816</td><td>-0.44180801</td><td>-0.1773833</td><td> 1.00000000</td><td>-0.3660869</td><td> 0.3334608</td></tr>\n",
       "\t<tr><th scope=row>lstat</th><td> 0.45562148</td><td>-0.41299457</td><td> 0.60379972</td><td>-0.053929298</td><td> 0.59087892</td><td>-0.61380827</td><td> 0.60233853</td><td>-0.49699583</td><td> 0.488676335</td><td> 0.54399341</td><td> 0.3740443</td><td>-0.36608690</td><td> 1.0000000</td><td>-0.7376627</td></tr>\n",
       "\t<tr><th scope=row>medv</th><td>-0.38830461</td><td> 0.36044534</td><td>-0.48372516</td><td> 0.175260177</td><td>-0.42732077</td><td> 0.69535995</td><td>-0.37695457</td><td> 0.24992873</td><td>-0.381626231</td><td>-0.46853593</td><td>-0.5077867</td><td> 0.33346082</td><td>-0.7376627</td><td> 1.0000000</td></tr>\n",
       "</tbody>\n",
       "</table>\n"
      ],
      "text/latex": [
       "A matrix: 14 × 14 of type dbl\n",
       "\\begin{tabular}{r|llllllllllllll}\n",
       "  & crim & zn & indus & chas & nox & rm & age & dis & rad & tax & ptratio & black & lstat & medv\\\\\n",
       "\\hline\n",
       "\tcrim &  1.00000000 & -0.20046922 &  0.40658341 & -0.055891582 &  0.42097171 & -0.21924670 &  0.35273425 & -0.37967009 &  0.625505145 &  0.58276431 &  0.2899456 & -0.38506394 &  0.4556215 & -0.3883046\\\\\n",
       "\tzn & -0.20046922 &  1.00000000 & -0.53382819 & -0.042696719 & -0.51660371 &  0.31199059 & -0.56953734 &  0.66440822 & -0.311947826 & -0.31456332 & -0.3916785 &  0.17552032 & -0.4129946 &  0.3604453\\\\\n",
       "\tindus &  0.40658341 & -0.53382819 &  1.00000000 &  0.062938027 &  0.76365145 & -0.39167585 &  0.64477851 & -0.70802699 &  0.595129275 &  0.72076018 &  0.3832476 & -0.35697654 &  0.6037997 & -0.4837252\\\\\n",
       "\tchas & -0.05589158 & -0.04269672 &  0.06293803 &  1.000000000 &  0.09120281 &  0.09125123 &  0.08651777 & -0.09917578 & -0.007368241 & -0.03558652 & -0.1215152 &  0.04878848 & -0.0539293 &  0.1752602\\\\\n",
       "\tnox &  0.42097171 & -0.51660371 &  0.76365145 &  0.091202807 &  1.00000000 & -0.30218819 &  0.73147010 & -0.76923011 &  0.611440563 &  0.66802320 &  0.1889327 & -0.38005064 &  0.5908789 & -0.4273208\\\\\n",
       "\trm & -0.21924670 &  0.31199059 & -0.39167585 &  0.091251225 & -0.30218819 &  1.00000000 & -0.24026493 &  0.20524621 & -0.209846668 & -0.29204783 & -0.3555015 &  0.12806864 & -0.6138083 &  0.6953599\\\\\n",
       "\tage &  0.35273425 & -0.56953734 &  0.64477851 &  0.086517774 &  0.73147010 & -0.24026493 &  1.00000000 & -0.74788054 &  0.456022452 &  0.50645559 &  0.2615150 & -0.27353398 &  0.6023385 & -0.3769546\\\\\n",
       "\tdis & -0.37967009 &  0.66440822 & -0.70802699 & -0.099175780 & -0.76923011 &  0.20524621 & -0.74788054 &  1.00000000 & -0.494587930 & -0.53443158 & -0.2324705 &  0.29151167 & -0.4969958 &  0.2499287\\\\\n",
       "\trad &  0.62550515 & -0.31194783 &  0.59512927 & -0.007368241 &  0.61144056 & -0.20984667 &  0.45602245 & -0.49458793 &  1.000000000 &  0.91022819 &  0.4647412 & -0.44441282 &  0.4886763 & -0.3816262\\\\\n",
       "\ttax &  0.58276431 & -0.31456332 &  0.72076018 & -0.035586518 &  0.66802320 & -0.29204783 &  0.50645559 & -0.53443158 &  0.910228189 &  1.00000000 &  0.4608530 & -0.44180801 &  0.5439934 & -0.4685359\\\\\n",
       "\tptratio &  0.28994558 & -0.39167855 &  0.38324756 & -0.121515174 &  0.18893268 & -0.35550149 &  0.26151501 & -0.23247054 &  0.464741179 &  0.46085304 &  1.0000000 & -0.17738330 &  0.3740443 & -0.5077867\\\\\n",
       "\tblack & -0.38506394 &  0.17552032 & -0.35697654 &  0.048788485 & -0.38005064 &  0.12806864 & -0.27353398 &  0.29151167 & -0.444412816 & -0.44180801 & -0.1773833 &  1.00000000 & -0.3660869 &  0.3334608\\\\\n",
       "\tlstat &  0.45562148 & -0.41299457 &  0.60379972 & -0.053929298 &  0.59087892 & -0.61380827 &  0.60233853 & -0.49699583 &  0.488676335 &  0.54399341 &  0.3740443 & -0.36608690 &  1.0000000 & -0.7376627\\\\\n",
       "\tmedv & -0.38830461 &  0.36044534 & -0.48372516 &  0.175260177 & -0.42732077 &  0.69535995 & -0.37695457 &  0.24992873 & -0.381626231 & -0.46853593 & -0.5077867 &  0.33346082 & -0.7376627 &  1.0000000\\\\\n",
       "\\end{tabular}\n"
      ],
      "text/markdown": [
       "\n",
       "A matrix: 14 × 14 of type dbl\n",
       "\n",
       "| <!--/--> | crim | zn | indus | chas | nox | rm | age | dis | rad | tax | ptratio | black | lstat | medv |\n",
       "|---|---|---|---|---|---|---|---|---|---|---|---|---|---|---|\n",
       "| crim |  1.00000000 | -0.20046922 |  0.40658341 | -0.055891582 |  0.42097171 | -0.21924670 |  0.35273425 | -0.37967009 |  0.625505145 |  0.58276431 |  0.2899456 | -0.38506394 |  0.4556215 | -0.3883046 |\n",
       "| zn | -0.20046922 |  1.00000000 | -0.53382819 | -0.042696719 | -0.51660371 |  0.31199059 | -0.56953734 |  0.66440822 | -0.311947826 | -0.31456332 | -0.3916785 |  0.17552032 | -0.4129946 |  0.3604453 |\n",
       "| indus |  0.40658341 | -0.53382819 |  1.00000000 |  0.062938027 |  0.76365145 | -0.39167585 |  0.64477851 | -0.70802699 |  0.595129275 |  0.72076018 |  0.3832476 | -0.35697654 |  0.6037997 | -0.4837252 |\n",
       "| chas | -0.05589158 | -0.04269672 |  0.06293803 |  1.000000000 |  0.09120281 |  0.09125123 |  0.08651777 | -0.09917578 | -0.007368241 | -0.03558652 | -0.1215152 |  0.04878848 | -0.0539293 |  0.1752602 |\n",
       "| nox |  0.42097171 | -0.51660371 |  0.76365145 |  0.091202807 |  1.00000000 | -0.30218819 |  0.73147010 | -0.76923011 |  0.611440563 |  0.66802320 |  0.1889327 | -0.38005064 |  0.5908789 | -0.4273208 |\n",
       "| rm | -0.21924670 |  0.31199059 | -0.39167585 |  0.091251225 | -0.30218819 |  1.00000000 | -0.24026493 |  0.20524621 | -0.209846668 | -0.29204783 | -0.3555015 |  0.12806864 | -0.6138083 |  0.6953599 |\n",
       "| age |  0.35273425 | -0.56953734 |  0.64477851 |  0.086517774 |  0.73147010 | -0.24026493 |  1.00000000 | -0.74788054 |  0.456022452 |  0.50645559 |  0.2615150 | -0.27353398 |  0.6023385 | -0.3769546 |\n",
       "| dis | -0.37967009 |  0.66440822 | -0.70802699 | -0.099175780 | -0.76923011 |  0.20524621 | -0.74788054 |  1.00000000 | -0.494587930 | -0.53443158 | -0.2324705 |  0.29151167 | -0.4969958 |  0.2499287 |\n",
       "| rad |  0.62550515 | -0.31194783 |  0.59512927 | -0.007368241 |  0.61144056 | -0.20984667 |  0.45602245 | -0.49458793 |  1.000000000 |  0.91022819 |  0.4647412 | -0.44441282 |  0.4886763 | -0.3816262 |\n",
       "| tax |  0.58276431 | -0.31456332 |  0.72076018 | -0.035586518 |  0.66802320 | -0.29204783 |  0.50645559 | -0.53443158 |  0.910228189 |  1.00000000 |  0.4608530 | -0.44180801 |  0.5439934 | -0.4685359 |\n",
       "| ptratio |  0.28994558 | -0.39167855 |  0.38324756 | -0.121515174 |  0.18893268 | -0.35550149 |  0.26151501 | -0.23247054 |  0.464741179 |  0.46085304 |  1.0000000 | -0.17738330 |  0.3740443 | -0.5077867 |\n",
       "| black | -0.38506394 |  0.17552032 | -0.35697654 |  0.048788485 | -0.38005064 |  0.12806864 | -0.27353398 |  0.29151167 | -0.444412816 | -0.44180801 | -0.1773833 |  1.00000000 | -0.3660869 |  0.3334608 |\n",
       "| lstat |  0.45562148 | -0.41299457 |  0.60379972 | -0.053929298 |  0.59087892 | -0.61380827 |  0.60233853 | -0.49699583 |  0.488676335 |  0.54399341 |  0.3740443 | -0.36608690 |  1.0000000 | -0.7376627 |\n",
       "| medv | -0.38830461 |  0.36044534 | -0.48372516 |  0.175260177 | -0.42732077 |  0.69535995 | -0.37695457 |  0.24992873 | -0.381626231 | -0.46853593 | -0.5077867 |  0.33346082 | -0.7376627 |  1.0000000 |\n",
       "\n"
      ],
      "text/plain": [
       "        crim        zn          indus       chas         nox        \n",
       "crim     1.00000000 -0.20046922  0.40658341 -0.055891582  0.42097171\n",
       "zn      -0.20046922  1.00000000 -0.53382819 -0.042696719 -0.51660371\n",
       "indus    0.40658341 -0.53382819  1.00000000  0.062938027  0.76365145\n",
       "chas    -0.05589158 -0.04269672  0.06293803  1.000000000  0.09120281\n",
       "nox      0.42097171 -0.51660371  0.76365145  0.091202807  1.00000000\n",
       "rm      -0.21924670  0.31199059 -0.39167585  0.091251225 -0.30218819\n",
       "age      0.35273425 -0.56953734  0.64477851  0.086517774  0.73147010\n",
       "dis     -0.37967009  0.66440822 -0.70802699 -0.099175780 -0.76923011\n",
       "rad      0.62550515 -0.31194783  0.59512927 -0.007368241  0.61144056\n",
       "tax      0.58276431 -0.31456332  0.72076018 -0.035586518  0.66802320\n",
       "ptratio  0.28994558 -0.39167855  0.38324756 -0.121515174  0.18893268\n",
       "black   -0.38506394  0.17552032 -0.35697654  0.048788485 -0.38005064\n",
       "lstat    0.45562148 -0.41299457  0.60379972 -0.053929298  0.59087892\n",
       "medv    -0.38830461  0.36044534 -0.48372516  0.175260177 -0.42732077\n",
       "        rm          age         dis         rad          tax         ptratio   \n",
       "crim    -0.21924670  0.35273425 -0.37967009  0.625505145  0.58276431  0.2899456\n",
       "zn       0.31199059 -0.56953734  0.66440822 -0.311947826 -0.31456332 -0.3916785\n",
       "indus   -0.39167585  0.64477851 -0.70802699  0.595129275  0.72076018  0.3832476\n",
       "chas     0.09125123  0.08651777 -0.09917578 -0.007368241 -0.03558652 -0.1215152\n",
       "nox     -0.30218819  0.73147010 -0.76923011  0.611440563  0.66802320  0.1889327\n",
       "rm       1.00000000 -0.24026493  0.20524621 -0.209846668 -0.29204783 -0.3555015\n",
       "age     -0.24026493  1.00000000 -0.74788054  0.456022452  0.50645559  0.2615150\n",
       "dis      0.20524621 -0.74788054  1.00000000 -0.494587930 -0.53443158 -0.2324705\n",
       "rad     -0.20984667  0.45602245 -0.49458793  1.000000000  0.91022819  0.4647412\n",
       "tax     -0.29204783  0.50645559 -0.53443158  0.910228189  1.00000000  0.4608530\n",
       "ptratio -0.35550149  0.26151501 -0.23247054  0.464741179  0.46085304  1.0000000\n",
       "black    0.12806864 -0.27353398  0.29151167 -0.444412816 -0.44180801 -0.1773833\n",
       "lstat   -0.61380827  0.60233853 -0.49699583  0.488676335  0.54399341  0.3740443\n",
       "medv     0.69535995 -0.37695457  0.24992873 -0.381626231 -0.46853593 -0.5077867\n",
       "        black       lstat      medv      \n",
       "crim    -0.38506394  0.4556215 -0.3883046\n",
       "zn       0.17552032 -0.4129946  0.3604453\n",
       "indus   -0.35697654  0.6037997 -0.4837252\n",
       "chas     0.04878848 -0.0539293  0.1752602\n",
       "nox     -0.38005064  0.5908789 -0.4273208\n",
       "rm       0.12806864 -0.6138083  0.6953599\n",
       "age     -0.27353398  0.6023385 -0.3769546\n",
       "dis      0.29151167 -0.4969958  0.2499287\n",
       "rad     -0.44441282  0.4886763 -0.3816262\n",
       "tax     -0.44180801  0.5439934 -0.4685359\n",
       "ptratio -0.17738330  0.3740443 -0.5077867\n",
       "black    1.00000000 -0.3660869  0.3334608\n",
       "lstat   -0.36608690  1.0000000 -0.7376627\n",
       "medv     0.33346082 -0.7376627  1.0000000"
      ]
     },
     "metadata": {},
     "output_type": "display_data"
    }
   ],
   "source": [
    "# b) Make some pairwise scatterplots of the predictors in the data set\n",
    "# and describe your findings\n",
    "cor(Boston)\n",
    "\n",
    "# crim: age, dis, rad, tax, ptratio\n",
    "# zn: indus, nox, age, lstat\n",
    "# indus: age, dis\n",
    "# nox: age, dis\n",
    "# dis: lstat\n",
    "# lstat: medv"
   ]
  },
  {
   "cell_type": "code",
   "execution_count": 14,
   "metadata": {},
   "outputs": [
    {
     "data": {
      "image/png": "[encoded data removed]",
      "text/plain": [
       "plot without title"
      ]
     },
     "metadata": {
      "image/png": {
       "height": 420,
       "width": 420
      }
     },
     "output_type": "display_data"
    }
   ],
   "source": [
    "# The more rooms per dwelling, the lower the status of the population - negative relationship\n",
    "plot(Boston$lstat, Boston$rm)"
   ]
  },
  {
   "cell_type": "code",
   "execution_count": 15,
   "metadata": {},
   "outputs": [
    {
     "data": {
      "image/png": "[encoded data removed]",
      "text/plain": [
       "plot without title"
      ]
     },
     "metadata": {
      "image/png": {
       "height": 420,
       "width": 420
      }
     },
     "output_type": "display_data"
    }
   ],
   "source": [
    "# strong negative relationship between age and dis\n",
    "# older people are closer to the Boston employment centres, espically from 50 - 100\n",
    "plot(Boston$age, Boston$dis)"
   ]
  },
  {
   "cell_type": "code",
   "execution_count": 16,
   "metadata": {},
   "outputs": [
    {
     "data": {
      "image/png": "[encoded data removed]",
      "text/plain": [
       "plot without title"
      ]
     },
     "metadata": {
      "image/png": {
       "height": 420,
       "width": 420
      }
     },
     "output_type": "display_data"
    }
   ],
   "source": [
    "# crime rate increases drastically when tax rates reach 680, however\n",
    "# there is a lot of variance\n",
    "plot(Boston$tax, Boston$crim)"
   ]
  },
  {
   "cell_type": "code",
   "execution_count": 18,
   "metadata": {},
   "outputs": [
    {
     "data": {
      "image/png": "[encoded data removed]",
      "text/plain": [
       "plot without title"
      ]
     },
     "metadata": {
      "image/png": {
       "height": 420,
       "width": 420
      }
     },
     "output_type": "display_data"
    }
   ],
   "source": [
    "# the higher the index of accessability to radial highways, \n",
    "# the higher the crime rate\n",
    "plot(Boston$rad, Boston$crim)"
   ]
  },
  {
   "cell_type": "code",
   "execution_count": 19,
   "metadata": {},
   "outputs": [],
   "source": [
    "# c) looking at the correlation matrix above, the predictors that seem\n",
    "# to be associated with per capita crime rate are \n",
    "# rad - index of accessibility to radial highways (0.6256)\n",
    "# tax - tax rates (0.583)\n",
    "# lstat - lower status of population (0.456)"
   ]
  },
  {
   "cell_type": "code",
   "execution_count": 22,
   "metadata": {},
   "outputs": [
    {
     "data": {
      "image/png": "[encoded data removed]",
      "text/plain": [
       "Plot with title \"Histogram of Boston$crim\""
      ]
     },
     "metadata": {
      "image/png": {
       "height": 420,
       "width": 420
      }
     },
     "output_type": "display_data"
    }
   ],
   "source": [
    "# d) Do any of the suburbs of Boston appear to have particularly\n",
    "# high crime rates?\n",
    "# The majority of suburbs have low crime rates. There are a few\n",
    "# suburbs with high crime rates. Data is right skewed (mean > median)\n",
    "hist(Boston$crim, breaks=50)"
   ]
  },
  {
   "cell_type": "code",
   "execution_count": 23,
   "metadata": {},
   "outputs": [
    {
     "data": {
      "text/plain": [
       "    Min.  1st Qu.   Median     Mean  3rd Qu.     Max. \n",
       " 0.00632  0.08204  0.25651  3.61352  3.67708 88.97620 "
      ]
     },
     "metadata": {},
     "output_type": "display_data"
    }
   ],
   "source": [
    "# There is a large range in crime rates, and mean > median.\n",
    "summary(Boston$crim)"
   ]
  },
  {
   "cell_type": "code",
   "execution_count": 26,
   "metadata": {},
   "outputs": [
    {
     "data": {
      "text/html": [
       "<table>\n",
       "<caption>A data.frame: 11 × 14</caption>\n",
       "<thead>\n",
       "\t<tr><th></th><th scope=col>crim</th><th scope=col>zn</th><th scope=col>indus</th><th scope=col>chas</th><th scope=col>nox</th><th scope=col>rm</th><th scope=col>age</th><th scope=col>dis</th><th scope=col>rad</th><th scope=col>tax</th><th scope=col>ptratio</th><th scope=col>black</th><th scope=col>lstat</th><th scope=col>medv</th></tr>\n",
       "\t<tr><th></th><th scope=col>&lt;dbl&gt;</th><th scope=col>&lt;dbl&gt;</th><th scope=col>&lt;dbl&gt;</th><th scope=col>&lt;int&gt;</th><th scope=col>&lt;dbl&gt;</th><th scope=col>&lt;dbl&gt;</th><th scope=col>&lt;dbl&gt;</th><th scope=col>&lt;dbl&gt;</th><th scope=col>&lt;int&gt;</th><th scope=col>&lt;dbl&gt;</th><th scope=col>&lt;dbl&gt;</th><th scope=col>&lt;dbl&gt;</th><th scope=col>&lt;dbl&gt;</th><th scope=col>&lt;dbl&gt;</th></tr>\n",
       "</thead>\n",
       "<tbody>\n",
       "\t<tr><th scope=row>381</th><td>88.9762</td><td>0</td><td>18.1</td><td>0</td><td>0.671</td><td>6.968</td><td> 91.9</td><td>1.4165</td><td>24</td><td>666</td><td>20.2</td><td>396.90</td><td>17.21</td><td>10.4</td></tr>\n",
       "\t<tr><th scope=row>399</th><td>38.3518</td><td>0</td><td>18.1</td><td>0</td><td>0.693</td><td>5.453</td><td>100.0</td><td>1.4896</td><td>24</td><td>666</td><td>20.2</td><td>396.90</td><td>30.59</td><td> 5.0</td></tr>\n",
       "\t<tr><th scope=row>401</th><td>25.0461</td><td>0</td><td>18.1</td><td>0</td><td>0.693</td><td>5.987</td><td>100.0</td><td>1.5888</td><td>24</td><td>666</td><td>20.2</td><td>396.90</td><td>26.77</td><td> 5.6</td></tr>\n",
       "\t<tr><th scope=row>405</th><td>41.5292</td><td>0</td><td>18.1</td><td>0</td><td>0.693</td><td>5.531</td><td> 85.4</td><td>1.6074</td><td>24</td><td>666</td><td>20.2</td><td>329.46</td><td>27.38</td><td> 8.5</td></tr>\n",
       "\t<tr><th scope=row>406</th><td>67.9208</td><td>0</td><td>18.1</td><td>0</td><td>0.693</td><td>5.683</td><td>100.0</td><td>1.4254</td><td>24</td><td>666</td><td>20.2</td><td>384.97</td><td>22.98</td><td> 5.0</td></tr>\n",
       "\t<tr><th scope=row>411</th><td>51.1358</td><td>0</td><td>18.1</td><td>0</td><td>0.597</td><td>5.757</td><td>100.0</td><td>1.4130</td><td>24</td><td>666</td><td>20.2</td><td>  2.60</td><td>10.11</td><td>15.0</td></tr>\n",
       "\t<tr><th scope=row>414</th><td>28.6558</td><td>0</td><td>18.1</td><td>0</td><td>0.597</td><td>5.155</td><td>100.0</td><td>1.5894</td><td>24</td><td>666</td><td>20.2</td><td>210.97</td><td>20.08</td><td>16.3</td></tr>\n",
       "\t<tr><th scope=row>415</th><td>45.7461</td><td>0</td><td>18.1</td><td>0</td><td>0.693</td><td>4.519</td><td>100.0</td><td>1.6582</td><td>24</td><td>666</td><td>20.2</td><td> 88.27</td><td>36.98</td><td> 7.0</td></tr>\n",
       "\t<tr><th scope=row>418</th><td>25.9406</td><td>0</td><td>18.1</td><td>0</td><td>0.679</td><td>5.304</td><td> 89.1</td><td>1.6475</td><td>24</td><td>666</td><td>20.2</td><td>127.36</td><td>26.64</td><td>10.4</td></tr>\n",
       "\t<tr><th scope=row>419</th><td>73.5341</td><td>0</td><td>18.1</td><td>0</td><td>0.679</td><td>5.957</td><td>100.0</td><td>1.8026</td><td>24</td><td>666</td><td>20.2</td><td> 16.45</td><td>20.62</td><td> 8.8</td></tr>\n",
       "\t<tr><th scope=row>428</th><td>37.6619</td><td>0</td><td>18.1</td><td>0</td><td>0.679</td><td>6.202</td><td> 78.7</td><td>1.8629</td><td>24</td><td>666</td><td>20.2</td><td> 18.82</td><td>14.52</td><td>10.9</td></tr>\n",
       "</tbody>\n",
       "</table>\n"
      ],
      "text/latex": [
       "A data.frame: 11 × 14\n",
       "\\begin{tabular}{r|llllllllllllll}\n",
       "  & crim & zn & indus & chas & nox & rm & age & dis & rad & tax & ptratio & black & lstat & medv\\\\\n",
       "  & <dbl> & <dbl> & <dbl> & <int> & <dbl> & <dbl> & <dbl> & <dbl> & <int> & <dbl> & <dbl> & <dbl> & <dbl> & <dbl>\\\\\n",
       "\\hline\n",
       "\t381 & 88.9762 & 0 & 18.1 & 0 & 0.671 & 6.968 &  91.9 & 1.4165 & 24 & 666 & 20.2 & 396.90 & 17.21 & 10.4\\\\\n",
       "\t399 & 38.3518 & 0 & 18.1 & 0 & 0.693 & 5.453 & 100.0 & 1.4896 & 24 & 666 & 20.2 & 396.90 & 30.59 &  5.0\\\\\n",
       "\t401 & 25.0461 & 0 & 18.1 & 0 & 0.693 & 5.987 & 100.0 & 1.5888 & 24 & 666 & 20.2 & 396.90 & 26.77 &  5.6\\\\\n",
       "\t405 & 41.5292 & 0 & 18.1 & 0 & 0.693 & 5.531 &  85.4 & 1.6074 & 24 & 666 & 20.2 & 329.46 & 27.38 &  8.5\\\\\n",
       "\t406 & 67.9208 & 0 & 18.1 & 0 & 0.693 & 5.683 & 100.0 & 1.4254 & 24 & 666 & 20.2 & 384.97 & 22.98 &  5.0\\\\\n",
       "\t411 & 51.1358 & 0 & 18.1 & 0 & 0.597 & 5.757 & 100.0 & 1.4130 & 24 & 666 & 20.2 &   2.60 & 10.11 & 15.0\\\\\n",
       "\t414 & 28.6558 & 0 & 18.1 & 0 & 0.597 & 5.155 & 100.0 & 1.5894 & 24 & 666 & 20.2 & 210.97 & 20.08 & 16.3\\\\\n",
       "\t415 & 45.7461 & 0 & 18.1 & 0 & 0.693 & 4.519 & 100.0 & 1.6582 & 24 & 666 & 20.2 &  88.27 & 36.98 &  7.0\\\\\n",
       "\t418 & 25.9406 & 0 & 18.1 & 0 & 0.679 & 5.304 &  89.1 & 1.6475 & 24 & 666 & 20.2 & 127.36 & 26.64 & 10.4\\\\\n",
       "\t419 & 73.5341 & 0 & 18.1 & 0 & 0.679 & 5.957 & 100.0 & 1.8026 & 24 & 666 & 20.2 &  16.45 & 20.62 &  8.8\\\\\n",
       "\t428 & 37.6619 & 0 & 18.1 & 0 & 0.679 & 6.202 &  78.7 & 1.8629 & 24 & 666 & 20.2 &  18.82 & 14.52 & 10.9\\\\\n",
       "\\end{tabular}\n"
      ],
      "text/markdown": [
       "\n",
       "A data.frame: 11 × 14\n",
       "\n",
       "| <!--/--> | crim &lt;dbl&gt; | zn &lt;dbl&gt; | indus &lt;dbl&gt; | chas &lt;int&gt; | nox &lt;dbl&gt; | rm &lt;dbl&gt; | age &lt;dbl&gt; | dis &lt;dbl&gt; | rad &lt;int&gt; | tax &lt;dbl&gt; | ptratio &lt;dbl&gt; | black &lt;dbl&gt; | lstat &lt;dbl&gt; | medv &lt;dbl&gt; |\n",
       "|---|---|---|---|---|---|---|---|---|---|---|---|---|---|---|\n",
       "| 381 | 88.9762 | 0 | 18.1 | 0 | 0.671 | 6.968 |  91.9 | 1.4165 | 24 | 666 | 20.2 | 396.90 | 17.21 | 10.4 |\n",
       "| 399 | 38.3518 | 0 | 18.1 | 0 | 0.693 | 5.453 | 100.0 | 1.4896 | 24 | 666 | 20.2 | 396.90 | 30.59 |  5.0 |\n",
       "| 401 | 25.0461 | 0 | 18.1 | 0 | 0.693 | 5.987 | 100.0 | 1.5888 | 24 | 666 | 20.2 | 396.90 | 26.77 |  5.6 |\n",
       "| 405 | 41.5292 | 0 | 18.1 | 0 | 0.693 | 5.531 |  85.4 | 1.6074 | 24 | 666 | 20.2 | 329.46 | 27.38 |  8.5 |\n",
       "| 406 | 67.9208 | 0 | 18.1 | 0 | 0.693 | 5.683 | 100.0 | 1.4254 | 24 | 666 | 20.2 | 384.97 | 22.98 |  5.0 |\n",
       "| 411 | 51.1358 | 0 | 18.1 | 0 | 0.597 | 5.757 | 100.0 | 1.4130 | 24 | 666 | 20.2 |   2.60 | 10.11 | 15.0 |\n",
       "| 414 | 28.6558 | 0 | 18.1 | 0 | 0.597 | 5.155 | 100.0 | 1.5894 | 24 | 666 | 20.2 | 210.97 | 20.08 | 16.3 |\n",
       "| 415 | 45.7461 | 0 | 18.1 | 0 | 0.693 | 4.519 | 100.0 | 1.6582 | 24 | 666 | 20.2 |  88.27 | 36.98 |  7.0 |\n",
       "| 418 | 25.9406 | 0 | 18.1 | 0 | 0.679 | 5.304 |  89.1 | 1.6475 | 24 | 666 | 20.2 | 127.36 | 26.64 | 10.4 |\n",
       "| 419 | 73.5341 | 0 | 18.1 | 0 | 0.679 | 5.957 | 100.0 | 1.8026 | 24 | 666 | 20.2 |  16.45 | 20.62 |  8.8 |\n",
       "| 428 | 37.6619 | 0 | 18.1 | 0 | 0.679 | 6.202 |  78.7 | 1.8629 | 24 | 666 | 20.2 |  18.82 | 14.52 | 10.9 |\n",
       "\n"
      ],
      "text/plain": [
       "    crim    zn indus chas nox   rm    age   dis    rad tax ptratio black  lstat\n",
       "381 88.9762 0  18.1  0    0.671 6.968  91.9 1.4165 24  666 20.2    396.90 17.21\n",
       "399 38.3518 0  18.1  0    0.693 5.453 100.0 1.4896 24  666 20.2    396.90 30.59\n",
       "401 25.0461 0  18.1  0    0.693 5.987 100.0 1.5888 24  666 20.2    396.90 26.77\n",
       "405 41.5292 0  18.1  0    0.693 5.531  85.4 1.6074 24  666 20.2    329.46 27.38\n",
       "406 67.9208 0  18.1  0    0.693 5.683 100.0 1.4254 24  666 20.2    384.97 22.98\n",
       "411 51.1358 0  18.1  0    0.597 5.757 100.0 1.4130 24  666 20.2      2.60 10.11\n",
       "414 28.6558 0  18.1  0    0.597 5.155 100.0 1.5894 24  666 20.2    210.97 20.08\n",
       "415 45.7461 0  18.1  0    0.693 4.519 100.0 1.6582 24  666 20.2     88.27 36.98\n",
       "418 25.9406 0  18.1  0    0.679 5.304  89.1 1.6475 24  666 20.2    127.36 26.64\n",
       "419 73.5341 0  18.1  0    0.679 5.957 100.0 1.8026 24  666 20.2     16.45 20.62\n",
       "428 37.6619 0  18.1  0    0.679 6.202  78.7 1.8629 24  666 20.2     18.82 14.52\n",
       "    medv\n",
       "381 10.4\n",
       "399  5.0\n",
       "401  5.6\n",
       "405  8.5\n",
       "406  5.0\n",
       "411 15.0\n",
       "414 16.3\n",
       "415  7.0\n",
       "418 10.4\n",
       "419  8.8\n",
       "428 10.9"
      ]
     },
     "metadata": {},
     "output_type": "display_data"
    }
   ],
   "source": [
    "# There are 11 suburbs with crime rates above 25%. All the suburbs have the \n",
    "# same accessibility to radial highways, tax rates, proportion of non-retail\n",
    "# business acres per town, pupil-teacher ratios, and have older homes\n",
    "subset(Boston, crim > 25)"
   ]
  },
  {
   "cell_type": "code",
   "execution_count": 28,
   "metadata": {},
   "outputs": [
    {
     "data": {
      "image/png": "[encoded data removed]",
      "text/plain": [
       "Plot with title \"Histogram of Boston$tax\""
      ]
     },
     "metadata": {
      "image/png": {
       "height": 420,
       "width": 420
      }
     },
     "output_type": "display_data"
    }
   ],
   "source": [
    "# High tax rates?\n",
    "# Majority of the suburbs have tax rates around 200 - 450\n",
    "# There is a spike of some suburbs reaching 680 - 720 tax rates\n",
    "hist(Boston$tax, breaks=50)"
   ]
  },
  {
   "cell_type": "code",
   "execution_count": 30,
   "metadata": {},
   "outputs": [
    {
     "data": {
      "text/html": [
       "<style>\n",
       ".list-inline {list-style: none; margin:0; padding: 0}\n",
       ".list-inline>li {display: inline-block}\n",
       ".list-inline>li:not(:last-child)::after {content: \"\\00b7\"; padding: 0 .5ex}\n",
       "</style>\n",
       "<ol class=list-inline><li>137</li><li>14</li></ol>\n"
      ],
      "text/latex": [
       "\\begin{enumerate*}\n",
       "\\item 137\n",
       "\\item 14\n",
       "\\end{enumerate*}\n"
      ],
      "text/markdown": [
       "1. 137\n",
       "2. 14\n",
       "\n",
       "\n"
      ],
      "text/plain": [
       "[1] 137  14"
      ]
     },
     "metadata": {},
     "output_type": "display_data"
    }
   ],
   "source": [
    "# There are 137 suburbs with tax rates higher than 600\n",
    "dim(subset(Boston, tax > 600))"
   ]
  },
  {
   "cell_type": "code",
   "execution_count": 35,
   "metadata": {},
   "outputs": [
    {
     "data": {
      "text/plain": [
       "   Min. 1st Qu.  Median    Mean 3rd Qu.    Max. \n",
       "  12.60   17.40   19.05   18.46   20.20   22.00 "
      ]
     },
     "metadata": {},
     "output_type": "display_data"
    }
   ],
   "source": [
    "# Pupil-teacher ratios\n",
    "# 50% of the suburbs have pupil-teacher ratios up to ~18.46\n",
    "# 75% of the suburbs have ratios up to 20.20\n",
    "# Variance is low for pupil-teacher ratios\n",
    "summary(Boston$ptratio)"
   ]
  },
  {
   "cell_type": "code",
   "execution_count": 33,
   "metadata": {},
   "outputs": [
    {
     "data": {
      "image/png": "[encoded data removed]",
      "text/plain": [
       "Plot with title \"Histogram of Boston$ptratio\""
      ]
     },
     "metadata": {
      "image/png": {
       "height": 420,
       "width": 420
      }
     },
     "output_type": "display_data"
    }
   ],
   "source": [
    "# There is a large spike of suburbs having a pupil-teacher ratio of 20\n",
    "hist(Boston$ptratio, breaks=50)"
   ]
  },
  {
   "cell_type": "code",
   "execution_count": 41,
   "metadata": {},
   "outputs": [
    {
     "data": {
      "text/html": [
       "<style>\n",
       ".list-inline {list-style: none; margin:0; padding: 0}\n",
       ".list-inline>li {display: inline-block}\n",
       ".list-inline>li:not(:last-child)::after {content: \"\\00b7\"; padding: 0 .5ex}\n",
       "</style>\n",
       "<ol class=list-inline><li>156</li><li>14</li></ol>\n"
      ],
      "text/latex": [
       "\\begin{enumerate*}\n",
       "\\item 156\n",
       "\\item 14\n",
       "\\end{enumerate*}\n"
      ],
      "text/markdown": [
       "1. 156\n",
       "2. 14\n",
       "\n",
       "\n"
      ],
      "text/plain": [
       "[1] 156  14"
      ]
     },
     "metadata": {},
     "output_type": "display_data"
    }
   ],
   "source": [
    "# 156 suburbs have a pupil-teacher ratio between 20 and 21\n",
    "dim(subset(Boston, ptratio > 20 & ptratio < 21))"
   ]
  },
  {
   "cell_type": "code",
   "execution_count": 43,
   "metadata": {},
   "outputs": [
    {
     "data": {
      "text/plain": [
       "\n",
       "  0   1 \n",
       "471  35 "
      ]
     },
     "metadata": {},
     "output_type": "display_data"
    }
   ],
   "source": [
    "# e) How many of the suburbs in the data set bound the Charles river?\n",
    "# 35 suburbs bound the Charles river\n",
    "table(Boston$chas)"
   ]
  },
  {
   "cell_type": "code",
   "execution_count": 46,
   "metadata": {},
   "outputs": [
    {
     "data": {
      "text/html": [
       "19.05"
      ],
      "text/latex": [
       "19.05"
      ],
      "text/markdown": [
       "19.05"
      ],
      "text/plain": [
       "[1] 19.05"
      ]
     },
     "metadata": {},
     "output_type": "display_data"
    }
   ],
   "source": [
    "# f) What is the median pupil-teacher ratio among the towns in the data set?\n",
    "median(Boston$ptratio)"
   ]
  },
  {
   "cell_type": "code",
   "execution_count": 51,
   "metadata": {},
   "outputs": [
    {
     "data": {
      "text/html": [
       "<table>\n",
       "<caption>A data.frame: 2 × 14</caption>\n",
       "<thead>\n",
       "\t<tr><th></th><th scope=col>crim</th><th scope=col>zn</th><th scope=col>indus</th><th scope=col>chas</th><th scope=col>nox</th><th scope=col>rm</th><th scope=col>age</th><th scope=col>dis</th><th scope=col>rad</th><th scope=col>tax</th><th scope=col>ptratio</th><th scope=col>black</th><th scope=col>lstat</th><th scope=col>medv</th></tr>\n",
       "\t<tr><th></th><th scope=col>&lt;dbl&gt;</th><th scope=col>&lt;dbl&gt;</th><th scope=col>&lt;dbl&gt;</th><th scope=col>&lt;int&gt;</th><th scope=col>&lt;dbl&gt;</th><th scope=col>&lt;dbl&gt;</th><th scope=col>&lt;dbl&gt;</th><th scope=col>&lt;dbl&gt;</th><th scope=col>&lt;int&gt;</th><th scope=col>&lt;dbl&gt;</th><th scope=col>&lt;dbl&gt;</th><th scope=col>&lt;dbl&gt;</th><th scope=col>&lt;dbl&gt;</th><th scope=col>&lt;dbl&gt;</th></tr>\n",
       "</thead>\n",
       "<tbody>\n",
       "\t<tr><th scope=row>399</th><td>38.3518</td><td>0</td><td>18.1</td><td>0</td><td>0.693</td><td>5.453</td><td>100</td><td>1.4896</td><td>24</td><td>666</td><td>20.2</td><td>396.90</td><td>30.59</td><td>5</td></tr>\n",
       "\t<tr><th scope=row>406</th><td>67.9208</td><td>0</td><td>18.1</td><td>0</td><td>0.693</td><td>5.683</td><td>100</td><td>1.4254</td><td>24</td><td>666</td><td>20.2</td><td>384.97</td><td>22.98</td><td>5</td></tr>\n",
       "</tbody>\n",
       "</table>\n"
      ],
      "text/latex": [
       "A data.frame: 2 × 14\n",
       "\\begin{tabular}{r|llllllllllllll}\n",
       "  & crim & zn & indus & chas & nox & rm & age & dis & rad & tax & ptratio & black & lstat & medv\\\\\n",
       "  & <dbl> & <dbl> & <dbl> & <int> & <dbl> & <dbl> & <dbl> & <dbl> & <int> & <dbl> & <dbl> & <dbl> & <dbl> & <dbl>\\\\\n",
       "\\hline\n",
       "\t399 & 38.3518 & 0 & 18.1 & 0 & 0.693 & 5.453 & 100 & 1.4896 & 24 & 666 & 20.2 & 396.90 & 30.59 & 5\\\\\n",
       "\t406 & 67.9208 & 0 & 18.1 & 0 & 0.693 & 5.683 & 100 & 1.4254 & 24 & 666 & 20.2 & 384.97 & 22.98 & 5\\\\\n",
       "\\end{tabular}\n"
      ],
      "text/markdown": [
       "\n",
       "A data.frame: 2 × 14\n",
       "\n",
       "| <!--/--> | crim &lt;dbl&gt; | zn &lt;dbl&gt; | indus &lt;dbl&gt; | chas &lt;int&gt; | nox &lt;dbl&gt; | rm &lt;dbl&gt; | age &lt;dbl&gt; | dis &lt;dbl&gt; | rad &lt;int&gt; | tax &lt;dbl&gt; | ptratio &lt;dbl&gt; | black &lt;dbl&gt; | lstat &lt;dbl&gt; | medv &lt;dbl&gt; |\n",
       "|---|---|---|---|---|---|---|---|---|---|---|---|---|---|---|\n",
       "| 399 | 38.3518 | 0 | 18.1 | 0 | 0.693 | 5.453 | 100 | 1.4896 | 24 | 666 | 20.2 | 396.90 | 30.59 | 5 |\n",
       "| 406 | 67.9208 | 0 | 18.1 | 0 | 0.693 | 5.683 | 100 | 1.4254 | 24 | 666 | 20.2 | 384.97 | 22.98 | 5 |\n",
       "\n"
      ],
      "text/plain": [
       "    crim    zn indus chas nox   rm    age dis    rad tax ptratio black  lstat\n",
       "399 38.3518 0  18.1  0    0.693 5.453 100 1.4896 24  666 20.2    396.90 30.59\n",
       "406 67.9208 0  18.1  0    0.693 5.683 100 1.4254 24  666 20.2    384.97 22.98\n",
       "    medv\n",
       "399 5   \n",
       "406 5   "
      ]
     },
     "metadata": {},
     "output_type": "display_data"
    }
   ],
   "source": [
    "# g) Which suburb of Boston has lowest median value of owner-occupied homes?\n",
    "# What are the values of the other predictors for that suburb and how do those\n",
    "# values compare to the overall ranges for those predictors?\n",
    "# There are two suburbs with the lowest median value of owner-occupied homes.\n",
    "# They have higher tax rates, higher black popuations, and \n",
    "# older homes compared to other suburbs \n",
    "subset(Boston, medv == min(Boston$medv))"
   ]
  },
  {
   "cell_type": "code",
   "execution_count": 52,
   "metadata": {},
   "outputs": [
    {
     "data": {
      "text/html": [
       "<style>\n",
       ".list-inline {list-style: none; margin:0; padding: 0}\n",
       ".list-inline>li {display: inline-block}\n",
       ".list-inline>li:not(:last-child)::after {content: \"\\00b7\"; padding: 0 .5ex}\n",
       "</style>\n",
       "<ol class=list-inline><li>64</li><li>14</li></ol>\n"
      ],
      "text/latex": [
       "\\begin{enumerate*}\n",
       "\\item 64\n",
       "\\item 14\n",
       "\\end{enumerate*}\n"
      ],
      "text/markdown": [
       "1. 64\n",
       "2. 14\n",
       "\n",
       "\n"
      ],
      "text/plain": [
       "[1] 64 14"
      ]
     },
     "metadata": {},
     "output_type": "display_data"
    }
   ],
   "source": [
    "# h) How many suburbs average more than seven rooms per dwelling? More than eight?\n",
    "# There are 64 suburbs that have an average of more than seven rooms per dwelling\n",
    "dim(subset(Boston, rm > 7))"
   ]
  },
  {
   "cell_type": "code",
   "execution_count": 55,
   "metadata": {},
   "outputs": [
    {
     "data": {
      "text/html": [
       "<style>\n",
       ".list-inline {list-style: none; margin:0; padding: 0}\n",
       ".list-inline>li {display: inline-block}\n",
       ".list-inline>li:not(:last-child)::after {content: \"\\00b7\"; padding: 0 .5ex}\n",
       "</style>\n",
       "<ol class=list-inline><li>13</li><li>14</li></ol>\n"
      ],
      "text/latex": [
       "\\begin{enumerate*}\n",
       "\\item 13\n",
       "\\item 14\n",
       "\\end{enumerate*}\n"
      ],
      "text/markdown": [
       "1. 13\n",
       "2. 14\n",
       "\n",
       "\n"
      ],
      "text/plain": [
       "[1] 13 14"
      ]
     },
     "metadata": {},
     "output_type": "display_data"
    }
   ],
   "source": [
    "# There are 13 suburbs with more than eight rooms per dwelling\n",
    "dim(subset(Boston, rm > 8))"
   ]
  },
  {
   "cell_type": "code",
   "execution_count": 61,
   "metadata": {},
   "outputs": [
    {
     "data": {
      "text/html": [
       "<table>\n",
       "<caption>A data.frame: 13 × 14</caption>\n",
       "<thead>\n",
       "\t<tr><th></th><th scope=col>crim</th><th scope=col>zn</th><th scope=col>indus</th><th scope=col>chas</th><th scope=col>nox</th><th scope=col>rm</th><th scope=col>age</th><th scope=col>dis</th><th scope=col>rad</th><th scope=col>tax</th><th scope=col>ptratio</th><th scope=col>black</th><th scope=col>lstat</th><th scope=col>medv</th></tr>\n",
       "\t<tr><th></th><th scope=col>&lt;dbl&gt;</th><th scope=col>&lt;dbl&gt;</th><th scope=col>&lt;dbl&gt;</th><th scope=col>&lt;int&gt;</th><th scope=col>&lt;dbl&gt;</th><th scope=col>&lt;dbl&gt;</th><th scope=col>&lt;dbl&gt;</th><th scope=col>&lt;dbl&gt;</th><th scope=col>&lt;int&gt;</th><th scope=col>&lt;dbl&gt;</th><th scope=col>&lt;dbl&gt;</th><th scope=col>&lt;dbl&gt;</th><th scope=col>&lt;dbl&gt;</th><th scope=col>&lt;dbl&gt;</th></tr>\n",
       "</thead>\n",
       "<tbody>\n",
       "\t<tr><th scope=row>98</th><td>0.12083</td><td> 0</td><td> 2.89</td><td>0</td><td>0.4450</td><td>8.069</td><td>76.0</td><td>3.4952</td><td> 2</td><td>276</td><td>18.0</td><td>396.90</td><td>4.21</td><td>38.7</td></tr>\n",
       "\t<tr><th scope=row>164</th><td>1.51902</td><td> 0</td><td>19.58</td><td>1</td><td>0.6050</td><td>8.375</td><td>93.9</td><td>2.1620</td><td> 5</td><td>403</td><td>14.7</td><td>388.45</td><td>3.32</td><td>50.0</td></tr>\n",
       "\t<tr><th scope=row>205</th><td>0.02009</td><td>95</td><td> 2.68</td><td>0</td><td>0.4161</td><td>8.034</td><td>31.9</td><td>5.1180</td><td> 4</td><td>224</td><td>14.7</td><td>390.55</td><td>2.88</td><td>50.0</td></tr>\n",
       "\t<tr><th scope=row>225</th><td>0.31533</td><td> 0</td><td> 6.20</td><td>0</td><td>0.5040</td><td>8.266</td><td>78.3</td><td>2.8944</td><td> 8</td><td>307</td><td>17.4</td><td>385.05</td><td>4.14</td><td>44.8</td></tr>\n",
       "\t<tr><th scope=row>226</th><td>0.52693</td><td> 0</td><td> 6.20</td><td>0</td><td>0.5040</td><td>8.725</td><td>83.0</td><td>2.8944</td><td> 8</td><td>307</td><td>17.4</td><td>382.00</td><td>4.63</td><td>50.0</td></tr>\n",
       "\t<tr><th scope=row>227</th><td>0.38214</td><td> 0</td><td> 6.20</td><td>0</td><td>0.5040</td><td>8.040</td><td>86.5</td><td>3.2157</td><td> 8</td><td>307</td><td>17.4</td><td>387.38</td><td>3.13</td><td>37.6</td></tr>\n",
       "\t<tr><th scope=row>233</th><td>0.57529</td><td> 0</td><td> 6.20</td><td>0</td><td>0.5070</td><td>8.337</td><td>73.3</td><td>3.8384</td><td> 8</td><td>307</td><td>17.4</td><td>385.91</td><td>2.47</td><td>41.7</td></tr>\n",
       "\t<tr><th scope=row>234</th><td>0.33147</td><td> 0</td><td> 6.20</td><td>0</td><td>0.5070</td><td>8.247</td><td>70.4</td><td>3.6519</td><td> 8</td><td>307</td><td>17.4</td><td>378.95</td><td>3.95</td><td>48.3</td></tr>\n",
       "\t<tr><th scope=row>254</th><td>0.36894</td><td>22</td><td> 5.86</td><td>0</td><td>0.4310</td><td>8.259</td><td> 8.4</td><td>8.9067</td><td> 7</td><td>330</td><td>19.1</td><td>396.90</td><td>3.54</td><td>42.8</td></tr>\n",
       "\t<tr><th scope=row>258</th><td>0.61154</td><td>20</td><td> 3.97</td><td>0</td><td>0.6470</td><td>8.704</td><td>86.9</td><td>1.8010</td><td> 5</td><td>264</td><td>13.0</td><td>389.70</td><td>5.12</td><td>50.0</td></tr>\n",
       "\t<tr><th scope=row>263</th><td>0.52014</td><td>20</td><td> 3.97</td><td>0</td><td>0.6470</td><td>8.398</td><td>91.5</td><td>2.2885</td><td> 5</td><td>264</td><td>13.0</td><td>386.86</td><td>5.91</td><td>48.8</td></tr>\n",
       "\t<tr><th scope=row>268</th><td>0.57834</td><td>20</td><td> 3.97</td><td>0</td><td>0.5750</td><td>8.297</td><td>67.0</td><td>2.4216</td><td> 5</td><td>264</td><td>13.0</td><td>384.54</td><td>7.44</td><td>50.0</td></tr>\n",
       "\t<tr><th scope=row>365</th><td>3.47428</td><td> 0</td><td>18.10</td><td>1</td><td>0.7180</td><td>8.780</td><td>82.9</td><td>1.9047</td><td>24</td><td>666</td><td>20.2</td><td>354.55</td><td>5.29</td><td>21.9</td></tr>\n",
       "</tbody>\n",
       "</table>\n"
      ],
      "text/latex": [
       "A data.frame: 13 × 14\n",
       "\\begin{tabular}{r|llllllllllllll}\n",
       "  & crim & zn & indus & chas & nox & rm & age & dis & rad & tax & ptratio & black & lstat & medv\\\\\n",
       "  & <dbl> & <dbl> & <dbl> & <int> & <dbl> & <dbl> & <dbl> & <dbl> & <int> & <dbl> & <dbl> & <dbl> & <dbl> & <dbl>\\\\\n",
       "\\hline\n",
       "\t98 & 0.12083 &  0 &  2.89 & 0 & 0.4450 & 8.069 & 76.0 & 3.4952 &  2 & 276 & 18.0 & 396.90 & 4.21 & 38.7\\\\\n",
       "\t164 & 1.51902 &  0 & 19.58 & 1 & 0.6050 & 8.375 & 93.9 & 2.1620 &  5 & 403 & 14.7 & 388.45 & 3.32 & 50.0\\\\\n",
       "\t205 & 0.02009 & 95 &  2.68 & 0 & 0.4161 & 8.034 & 31.9 & 5.1180 &  4 & 224 & 14.7 & 390.55 & 2.88 & 50.0\\\\\n",
       "\t225 & 0.31533 &  0 &  6.20 & 0 & 0.5040 & 8.266 & 78.3 & 2.8944 &  8 & 307 & 17.4 & 385.05 & 4.14 & 44.8\\\\\n",
       "\t226 & 0.52693 &  0 &  6.20 & 0 & 0.5040 & 8.725 & 83.0 & 2.8944 &  8 & 307 & 17.4 & 382.00 & 4.63 & 50.0\\\\\n",
       "\t227 & 0.38214 &  0 &  6.20 & 0 & 0.5040 & 8.040 & 86.5 & 3.2157 &  8 & 307 & 17.4 & 387.38 & 3.13 & 37.6\\\\\n",
       "\t233 & 0.57529 &  0 &  6.20 & 0 & 0.5070 & 8.337 & 73.3 & 3.8384 &  8 & 307 & 17.4 & 385.91 & 2.47 & 41.7\\\\\n",
       "\t234 & 0.33147 &  0 &  6.20 & 0 & 0.5070 & 8.247 & 70.4 & 3.6519 &  8 & 307 & 17.4 & 378.95 & 3.95 & 48.3\\\\\n",
       "\t254 & 0.36894 & 22 &  5.86 & 0 & 0.4310 & 8.259 &  8.4 & 8.9067 &  7 & 330 & 19.1 & 396.90 & 3.54 & 42.8\\\\\n",
       "\t258 & 0.61154 & 20 &  3.97 & 0 & 0.6470 & 8.704 & 86.9 & 1.8010 &  5 & 264 & 13.0 & 389.70 & 5.12 & 50.0\\\\\n",
       "\t263 & 0.52014 & 20 &  3.97 & 0 & 0.6470 & 8.398 & 91.5 & 2.2885 &  5 & 264 & 13.0 & 386.86 & 5.91 & 48.8\\\\\n",
       "\t268 & 0.57834 & 20 &  3.97 & 0 & 0.5750 & 8.297 & 67.0 & 2.4216 &  5 & 264 & 13.0 & 384.54 & 7.44 & 50.0\\\\\n",
       "\t365 & 3.47428 &  0 & 18.10 & 1 & 0.7180 & 8.780 & 82.9 & 1.9047 & 24 & 666 & 20.2 & 354.55 & 5.29 & 21.9\\\\\n",
       "\\end{tabular}\n"
      ],
      "text/markdown": [
       "\n",
       "A data.frame: 13 × 14\n",
       "\n",
       "| <!--/--> | crim &lt;dbl&gt; | zn &lt;dbl&gt; | indus &lt;dbl&gt; | chas &lt;int&gt; | nox &lt;dbl&gt; | rm &lt;dbl&gt; | age &lt;dbl&gt; | dis &lt;dbl&gt; | rad &lt;int&gt; | tax &lt;dbl&gt; | ptratio &lt;dbl&gt; | black &lt;dbl&gt; | lstat &lt;dbl&gt; | medv &lt;dbl&gt; |\n",
       "|---|---|---|---|---|---|---|---|---|---|---|---|---|---|---|\n",
       "| 98 | 0.12083 |  0 |  2.89 | 0 | 0.4450 | 8.069 | 76.0 | 3.4952 |  2 | 276 | 18.0 | 396.90 | 4.21 | 38.7 |\n",
       "| 164 | 1.51902 |  0 | 19.58 | 1 | 0.6050 | 8.375 | 93.9 | 2.1620 |  5 | 403 | 14.7 | 388.45 | 3.32 | 50.0 |\n",
       "| 205 | 0.02009 | 95 |  2.68 | 0 | 0.4161 | 8.034 | 31.9 | 5.1180 |  4 | 224 | 14.7 | 390.55 | 2.88 | 50.0 |\n",
       "| 225 | 0.31533 |  0 |  6.20 | 0 | 0.5040 | 8.266 | 78.3 | 2.8944 |  8 | 307 | 17.4 | 385.05 | 4.14 | 44.8 |\n",
       "| 226 | 0.52693 |  0 |  6.20 | 0 | 0.5040 | 8.725 | 83.0 | 2.8944 |  8 | 307 | 17.4 | 382.00 | 4.63 | 50.0 |\n",
       "| 227 | 0.38214 |  0 |  6.20 | 0 | 0.5040 | 8.040 | 86.5 | 3.2157 |  8 | 307 | 17.4 | 387.38 | 3.13 | 37.6 |\n",
       "| 233 | 0.57529 |  0 |  6.20 | 0 | 0.5070 | 8.337 | 73.3 | 3.8384 |  8 | 307 | 17.4 | 385.91 | 2.47 | 41.7 |\n",
       "| 234 | 0.33147 |  0 |  6.20 | 0 | 0.5070 | 8.247 | 70.4 | 3.6519 |  8 | 307 | 17.4 | 378.95 | 3.95 | 48.3 |\n",
       "| 254 | 0.36894 | 22 |  5.86 | 0 | 0.4310 | 8.259 |  8.4 | 8.9067 |  7 | 330 | 19.1 | 396.90 | 3.54 | 42.8 |\n",
       "| 258 | 0.61154 | 20 |  3.97 | 0 | 0.6470 | 8.704 | 86.9 | 1.8010 |  5 | 264 | 13.0 | 389.70 | 5.12 | 50.0 |\n",
       "| 263 | 0.52014 | 20 |  3.97 | 0 | 0.6470 | 8.398 | 91.5 | 2.2885 |  5 | 264 | 13.0 | 386.86 | 5.91 | 48.8 |\n",
       "| 268 | 0.57834 | 20 |  3.97 | 0 | 0.5750 | 8.297 | 67.0 | 2.4216 |  5 | 264 | 13.0 | 384.54 | 7.44 | 50.0 |\n",
       "| 365 | 3.47428 |  0 | 18.10 | 1 | 0.7180 | 8.780 | 82.9 | 1.9047 | 24 | 666 | 20.2 | 354.55 | 5.29 | 21.9 |\n",
       "\n"
      ],
      "text/plain": [
       "    crim    zn indus chas nox    rm    age  dis    rad tax ptratio black  lstat\n",
       "98  0.12083  0  2.89 0    0.4450 8.069 76.0 3.4952  2  276 18.0    396.90 4.21 \n",
       "164 1.51902  0 19.58 1    0.6050 8.375 93.9 2.1620  5  403 14.7    388.45 3.32 \n",
       "205 0.02009 95  2.68 0    0.4161 8.034 31.9 5.1180  4  224 14.7    390.55 2.88 \n",
       "225 0.31533  0  6.20 0    0.5040 8.266 78.3 2.8944  8  307 17.4    385.05 4.14 \n",
       "226 0.52693  0  6.20 0    0.5040 8.725 83.0 2.8944  8  307 17.4    382.00 4.63 \n",
       "227 0.38214  0  6.20 0    0.5040 8.040 86.5 3.2157  8  307 17.4    387.38 3.13 \n",
       "233 0.57529  0  6.20 0    0.5070 8.337 73.3 3.8384  8  307 17.4    385.91 2.47 \n",
       "234 0.33147  0  6.20 0    0.5070 8.247 70.4 3.6519  8  307 17.4    378.95 3.95 \n",
       "254 0.36894 22  5.86 0    0.4310 8.259  8.4 8.9067  7  330 19.1    396.90 3.54 \n",
       "258 0.61154 20  3.97 0    0.6470 8.704 86.9 1.8010  5  264 13.0    389.70 5.12 \n",
       "263 0.52014 20  3.97 0    0.6470 8.398 91.5 2.2885  5  264 13.0    386.86 5.91 \n",
       "268 0.57834 20  3.97 0    0.5750 8.297 67.0 2.4216  5  264 13.0    384.54 7.44 \n",
       "365 3.47428  0 18.10 1    0.7180 8.780 82.9 1.9047 24  666 20.2    354.55 5.29 \n",
       "    medv\n",
       "98  38.7\n",
       "164 50.0\n",
       "205 50.0\n",
       "225 44.8\n",
       "226 50.0\n",
       "227 37.6\n",
       "233 41.7\n",
       "234 48.3\n",
       "254 42.8\n",
       "258 50.0\n",
       "263 48.8\n",
       "268 50.0\n",
       "365 21.9"
      ]
     },
     "metadata": {},
     "output_type": "display_data"
    }
   ],
   "source": [
    "# These 13 suburbs all have high black populations, have at least 40% of\n",
    "# nitrogen oxides concentration, high variance in crime rate, and an average\n",
    "# of 44.2 owner-occupied homes, which is on the higher end of the entire dataset\n",
    "eight_rooms = subset(Boston, rm > 8)\n",
    "eight_rooms"
   ]
  },
  {
   "cell_type": "code",
   "execution_count": 62,
   "metadata": {},
   "outputs": [
    {
     "data": {
      "text/plain": [
       "      crim               zn            indus             chas       \n",
       " Min.   :0.02009   Min.   : 0.00   Min.   : 2.680   Min.   :0.0000  \n",
       " 1st Qu.:0.33147   1st Qu.: 0.00   1st Qu.: 3.970   1st Qu.:0.0000  \n",
       " Median :0.52014   Median : 0.00   Median : 6.200   Median :0.0000  \n",
       " Mean   :0.71879   Mean   :13.62   Mean   : 7.078   Mean   :0.1538  \n",
       " 3rd Qu.:0.57834   3rd Qu.:20.00   3rd Qu.: 6.200   3rd Qu.:0.0000  \n",
       " Max.   :3.47428   Max.   :95.00   Max.   :19.580   Max.   :1.0000  \n",
       "      nox               rm             age             dis       \n",
       " Min.   :0.4161   Min.   :8.034   Min.   : 8.40   Min.   :1.801  \n",
       " 1st Qu.:0.5040   1st Qu.:8.247   1st Qu.:70.40   1st Qu.:2.288  \n",
       " Median :0.5070   Median :8.297   Median :78.30   Median :2.894  \n",
       " Mean   :0.5392   Mean   :8.349   Mean   :71.54   Mean   :3.430  \n",
       " 3rd Qu.:0.6050   3rd Qu.:8.398   3rd Qu.:86.50   3rd Qu.:3.652  \n",
       " Max.   :0.7180   Max.   :8.780   Max.   :93.90   Max.   :8.907  \n",
       "      rad              tax           ptratio          black      \n",
       " Min.   : 2.000   Min.   :224.0   Min.   :13.00   Min.   :354.6  \n",
       " 1st Qu.: 5.000   1st Qu.:264.0   1st Qu.:14.70   1st Qu.:384.5  \n",
       " Median : 7.000   Median :307.0   Median :17.40   Median :386.9  \n",
       " Mean   : 7.462   Mean   :325.1   Mean   :16.36   Mean   :385.2  \n",
       " 3rd Qu.: 8.000   3rd Qu.:307.0   3rd Qu.:17.40   3rd Qu.:389.7  \n",
       " Max.   :24.000   Max.   :666.0   Max.   :20.20   Max.   :396.9  \n",
       "     lstat           medv     \n",
       " Min.   :2.47   Min.   :21.9  \n",
       " 1st Qu.:3.32   1st Qu.:41.7  \n",
       " Median :4.14   Median :48.3  \n",
       " Mean   :4.31   Mean   :44.2  \n",
       " 3rd Qu.:5.12   3rd Qu.:50.0  \n",
       " Max.   :7.44   Max.   :50.0  "
      ]
     },
     "metadata": {},
     "output_type": "display_data"
    }
   ],
   "source": [
    "summary(eight_rooms)"
   ]
  },
  {
   "cell_type": "code",
   "execution_count": 59,
   "metadata": {},
   "outputs": [
    {
     "data": {
      "text/plain": [
       "      crim                zn             indus            chas        \n",
       " Min.   : 0.00632   Min.   :  0.00   Min.   : 0.46   Min.   :0.00000  \n",
       " 1st Qu.: 0.08205   1st Qu.:  0.00   1st Qu.: 5.19   1st Qu.:0.00000  \n",
       " Median : 0.25651   Median :  0.00   Median : 9.69   Median :0.00000  \n",
       " Mean   : 3.61352   Mean   : 11.36   Mean   :11.14   Mean   :0.06917  \n",
       " 3rd Qu.: 3.67708   3rd Qu.: 12.50   3rd Qu.:18.10   3rd Qu.:0.00000  \n",
       " Max.   :88.97620   Max.   :100.00   Max.   :27.74   Max.   :1.00000  \n",
       "      nox               rm             age              dis        \n",
       " Min.   :0.3850   Min.   :3.561   Min.   :  2.90   Min.   : 1.130  \n",
       " 1st Qu.:0.4490   1st Qu.:5.886   1st Qu.: 45.02   1st Qu.: 2.100  \n",
       " Median :0.5380   Median :6.208   Median : 77.50   Median : 3.207  \n",
       " Mean   :0.5547   Mean   :6.285   Mean   : 68.57   Mean   : 3.795  \n",
       " 3rd Qu.:0.6240   3rd Qu.:6.623   3rd Qu.: 94.08   3rd Qu.: 5.188  \n",
       " Max.   :0.8710   Max.   :8.780   Max.   :100.00   Max.   :12.127  \n",
       "      rad              tax           ptratio          black       \n",
       " Min.   : 1.000   Min.   :187.0   Min.   :12.60   Min.   :  0.32  \n",
       " 1st Qu.: 4.000   1st Qu.:279.0   1st Qu.:17.40   1st Qu.:375.38  \n",
       " Median : 5.000   Median :330.0   Median :19.05   Median :391.44  \n",
       " Mean   : 9.549   Mean   :408.2   Mean   :18.46   Mean   :356.67  \n",
       " 3rd Qu.:24.000   3rd Qu.:666.0   3rd Qu.:20.20   3rd Qu.:396.23  \n",
       " Max.   :24.000   Max.   :711.0   Max.   :22.00   Max.   :396.90  \n",
       "     lstat            medv      \n",
       " Min.   : 1.73   Min.   : 5.00  \n",
       " 1st Qu.: 6.95   1st Qu.:17.02  \n",
       " Median :11.36   Median :21.20  \n",
       " Mean   :12.65   Mean   :22.53  \n",
       " 3rd Qu.:16.95   3rd Qu.:25.00  \n",
       " Max.   :37.97   Max.   :50.00  "
      ]
     },
     "metadata": {},
     "output_type": "display_data"
    }
   ],
   "source": [
    "summary(Boston)"
   ]
  },
  {
   "cell_type": "code",
   "execution_count": null,
   "metadata": {},
   "outputs": [],
   "source": []
  }
 ],
 "metadata": {
  "kernelspec": {
   "display_name": "R",
   "language": "R",
   "name": "ir"
  },
  "language_info": {
   "codemirror_mode": "r",
   "file_extension": ".r",
   "mimetype": "text/x-r-source",
   "name": "R",
   "pygments_lexer": "r",
   "version": "4.0.3"
  }
 },
 "nbformat": 4,
 "nbformat_minor": 4
}
