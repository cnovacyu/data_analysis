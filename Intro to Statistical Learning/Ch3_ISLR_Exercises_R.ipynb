{
 "cells": [
  {
   "cell_type": "code",
   "execution_count": null,
   "metadata": {},
   "outputs": [],
   "source": [
    "# 1) Describe the null hypotheses to the p-values in Table 3.4. What conclusion\n",
    "# can be drawn based on p-values\n",
    "# H0: There is no difference in effect on sales between the different media\n",
    "# Ha: There is a difference in effect on sales between the different media\n",
    "# Conclusion: Reject null hypothesis. Both tv and radio have an effect on sales,\n",
    "# but newspaper does not."
   ]
  }
 ],
 "metadata": {
  "kernelspec": {
   "display_name": "R",
   "language": "R",
   "name": "ir"
  },
  "language_info": {
   "codemirror_mode": "r",
   "file_extension": ".r",
   "mimetype": "text/x-r-source",
   "name": "R",
   "pygments_lexer": "r",
   "version": "4.0.3"
  }
 },
 "nbformat": 4,
 "nbformat_minor": 4
}
