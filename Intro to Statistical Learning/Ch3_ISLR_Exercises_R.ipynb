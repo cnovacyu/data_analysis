{
 "cells": [
  {
   "cell_type": "markdown",
   "metadata": {},
   "source": [
    "1 Describe the null hypotheses to the p-values in Table 3.4. What conclusion\n",
    "can be drawn based on p-values\n",
    "\n",
    "H0: There is no difference in effect on sales between the different media\n",
    "OR H0: β_tv = β_radio = β_newspaper = 0\n",
    "Ha: There is a difference in effect on sales between the different media\n",
    "OR Ha: β_tv = β_radio = β_newspaper ≠ 0\n",
    "Conclusion: Reject null hypothesis. Both tv and radio have an effect on sales,\n",
    "but newspaper does not."
   ]
  },
  {
   "cell_type": "markdown",
   "metadata": {},
   "source": [
    "2 Explain the differences between the KNN classifier and KNN regression methods\n",
    "\n",
    "KNN classifier (qualitative) - it looks at the closest K training observations to a test observation and assigns the test observation with the highest occurring value\n",
    "Ex: K = 5, Values = 2, 2, 3, 3, 2 so obs will be a 2\n",
    " \n",
    "KNN regression (quantitative) - looks at number of K closest training observations to test observation and takes the average of the values to assign to the test observation\n",
    "Ex: K = 5, Values = 2, 4, 5, 1, 6 so obs will be 18/5 or 3.6"
   ]
  },
  {
   "cell_type": "code",
   "execution_count": null,
   "metadata": {},
   "outputs": [],
   "source": [
    "3 \n",
    "Y(salary after graduation) = 50 + 20(GPA) + 0.07(IQ) + 35(Gender) +\n",
    "0.01(GPA * IQ) - 10(GPA * Gender)\n",
    "\n",
    "Females: Y(salary after graduation) = 50 + 20(GPA) + 0.07(IQ) + 35 +\n",
    "0.01(GPA * IQ) - 10(GPA)\n",
    "\n",
    "Males: Y(salary after graduation) = 50 + 20(GPA) + 0.07(IQ) + 0.01(GPA * IQ)\n",
    "\n",
    "a) \n",
    "GPA = 3.5, IQ = 115\n",
    "Females: Y = 50 + 20(3.5) + 0.07(115) + 35 + 0.01(3.5 * 115) - 10(3.5) = 132.075\n",
    "Males: Y = 50 + 20(3.5) + 0.07(115) + 0.01(3.5 * 115) = 132.075\n",
    "\n",
    "GPA = 4.0, IQ = 115\n",
    "Females: Y = 50 + 20(4.0) + 0.07(115) + 35 + 0.01(4.0 * 115) - 10(4.0) = 137.65\n",
    "Males: Y = 50 + 20(4.0) + 0.07(115) + 0.01(4.0 * 115) = 142.65\n",
    "\n",
    "For a fixed value of IQ and GPA, males earn more on average than females\n",
    "provided that the GPA is high enough.\n",
    "\n",
    "b) Predict the salary of a female with IQ of 110 and a GPA of 4.0\n",
    "Females: Y = 50 + 20(4.0) + 0.07(110) + 35 + 0.01(4.0 * 110) - 10(4.0) = 137.1\n",
    "$137,100\n",
    "\n",
    "c) Since the coefficient for the GPA/IQ interaction term is very small, there \n",
    "is little evidence for an interaction effect.\n",
    "\n",
    "False - the p-value will tell you if an interaction effect exists or not. If\n",
    "p-value is low, that means that the true relationship is not interactive.\n",
    "Coefficient does not provide any information about the relationship."
   ]
  },
  {
   "cell_type": "code",
   "execution_count": null,
   "metadata": {},
   "outputs": [],
   "source": [
    "4 a) Is training RSS lower or higher beween linear regression and cubic \n",
    "regression if the true relationship between X and Y is linear?\n",
    "\n",
    "Training RSS would be lower for the cubic regression than for the linear\n",
    "regression because of the higher flexibility using cubic regression. A more \n",
    "flexible model produces a tighter fit to the data, has a lower bias, and higher\n",
    "variance, which can lead to overfitting and appearing to be a better model.\n",
    "\n",
    "b) Answer a) using test rather than training RSS.\n",
    "\n",
    "Linear regression would have lower test RSS than cubic regression. Since the\n",
    "true relationship is linear, then the linear model would have lower variance.\n",
    "Also, since the cubic regression model was overfit and had lower training RSS,\n",
    "then we would expect the test RSS to be higher.\n",
    "\n",
    "c) Suppose true relationship between X and Y is not linear, but we do not know\n",
    "how far it is from linear. Would training RSS be lower or higher between linear\n",
    "and cubic regression?\n",
    "\n",
    "Training RSS would be lower with cubic regression because it is the more\n",
    "flexible of the models and tries to predict responses that are closer to the \n",
    "training observations. The cubic regression has lower bias and higher variance.\n",
    "\n",
    "d) Answer c) using test rather than training RSS.\n",
    "\n",
    "Since we do not know how far from linear the true relationship is, then we do \n",
    "not have enough information to know which test RSS would be lower. Which ever\n",
    "model is closer to the true relationship would have the lower RSS."
   ]
  },
  {
   "cell_type": "code",
   "execution_count": null,
   "metadata": {},
   "outputs": [],
   "source": []
  }
 ],
 "metadata": {
  "kernelspec": {
   "display_name": "R",
   "language": "R",
   "name": "ir"
  },
  "language_info": {
   "codemirror_mode": "r",
   "file_extension": ".r",
   "mimetype": "text/x-r-source",
   "name": "R",
   "pygments_lexer": "r",
   "version": "4.0.3"
  }
 },
 "nbformat": 4,
 "nbformat_minor": 4
}
