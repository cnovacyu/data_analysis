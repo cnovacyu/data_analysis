{
 "cells": [
  {
   "cell_type": "code",
   "execution_count": 2,
   "metadata": {},
   "outputs": [
    {
     "data": {
      "text/html": [
       "<style>\n",
       ".list-inline {list-style: none; margin:0; padding: 0}\n",
       ".list-inline>li {display: inline-block}\n",
       ".list-inline>li:not(:last-child)::after {content: \"\\00b7\"; padding: 0 .5ex}\n",
       "</style>\n",
       "<ol class=list-inline><li>392</li><li>9</li></ol>\n"
      ],
      "text/latex": [
       "\\begin{enumerate*}\n",
       "\\item 392\n",
       "\\item 9\n",
       "\\end{enumerate*}\n"
      ],
      "text/markdown": [
       "1. 392\n",
       "2. 9\n",
       "\n",
       "\n"
      ],
      "text/plain": [
       "[1] 392   9"
      ]
     },
     "metadata": {},
     "output_type": "display_data"
    }
   ],
   "source": [
    "# read the Auto data set and remove missing values\n",
    "auto = read.csv('./Auto.csv', header=T, na.strings=\"?\")\n",
    "auto = na.omit(auto)\n",
    "dim(auto)"
   ]
  },
  {
   "cell_type": "code",
   "execution_count": 11,
   "metadata": {},
   "outputs": [
    {
     "data": {
      "text/html": [
       "<table>\n",
       "<caption>A data.frame: 5 × 9</caption>\n",
       "<thead>\n",
       "\t<tr><th></th><th scope=col>mpg</th><th scope=col>cylinders</th><th scope=col>displacement</th><th scope=col>horsepower</th><th scope=col>weight</th><th scope=col>acceleration</th><th scope=col>year</th><th scope=col>origin</th><th scope=col>name</th></tr>\n",
       "\t<tr><th></th><th scope=col>&lt;dbl&gt;</th><th scope=col>&lt;int&gt;</th><th scope=col>&lt;dbl&gt;</th><th scope=col>&lt;int&gt;</th><th scope=col>&lt;int&gt;</th><th scope=col>&lt;dbl&gt;</th><th scope=col>&lt;int&gt;</th><th scope=col>&lt;int&gt;</th><th scope=col>&lt;chr&gt;</th></tr>\n",
       "</thead>\n",
       "<tbody>\n",
       "\t<tr><th scope=row>1</th><td>18</td><td>8</td><td>307</td><td>130</td><td>3504</td><td>12.0</td><td>70</td><td>1</td><td>chevrolet chevelle malibu</td></tr>\n",
       "\t<tr><th scope=row>2</th><td>15</td><td>8</td><td>350</td><td>165</td><td>3693</td><td>11.5</td><td>70</td><td>1</td><td>buick skylark 320        </td></tr>\n",
       "\t<tr><th scope=row>3</th><td>18</td><td>8</td><td>318</td><td>150</td><td>3436</td><td>11.0</td><td>70</td><td>1</td><td>plymouth satellite       </td></tr>\n",
       "\t<tr><th scope=row>4</th><td>16</td><td>8</td><td>304</td><td>150</td><td>3433</td><td>12.0</td><td>70</td><td>1</td><td>amc rebel sst            </td></tr>\n",
       "\t<tr><th scope=row>5</th><td>17</td><td>8</td><td>302</td><td>140</td><td>3449</td><td>10.5</td><td>70</td><td>1</td><td>ford torino              </td></tr>\n",
       "</tbody>\n",
       "</table>\n"
      ],
      "text/latex": [
       "A data.frame: 5 × 9\n",
       "\\begin{tabular}{r|lllllllll}\n",
       "  & mpg & cylinders & displacement & horsepower & weight & acceleration & year & origin & name\\\\\n",
       "  & <dbl> & <int> & <dbl> & <int> & <int> & <dbl> & <int> & <int> & <chr>\\\\\n",
       "\\hline\n",
       "\t1 & 18 & 8 & 307 & 130 & 3504 & 12.0 & 70 & 1 & chevrolet chevelle malibu\\\\\n",
       "\t2 & 15 & 8 & 350 & 165 & 3693 & 11.5 & 70 & 1 & buick skylark 320        \\\\\n",
       "\t3 & 18 & 8 & 318 & 150 & 3436 & 11.0 & 70 & 1 & plymouth satellite       \\\\\n",
       "\t4 & 16 & 8 & 304 & 150 & 3433 & 12.0 & 70 & 1 & amc rebel sst            \\\\\n",
       "\t5 & 17 & 8 & 302 & 140 & 3449 & 10.5 & 70 & 1 & ford torino              \\\\\n",
       "\\end{tabular}\n"
      ],
      "text/markdown": [
       "\n",
       "A data.frame: 5 × 9\n",
       "\n",
       "| <!--/--> | mpg &lt;dbl&gt; | cylinders &lt;int&gt; | displacement &lt;dbl&gt; | horsepower &lt;int&gt; | weight &lt;int&gt; | acceleration &lt;dbl&gt; | year &lt;int&gt; | origin &lt;int&gt; | name &lt;chr&gt; |\n",
       "|---|---|---|---|---|---|---|---|---|---|\n",
       "| 1 | 18 | 8 | 307 | 130 | 3504 | 12.0 | 70 | 1 | chevrolet chevelle malibu |\n",
       "| 2 | 15 | 8 | 350 | 165 | 3693 | 11.5 | 70 | 1 | buick skylark 320         |\n",
       "| 3 | 18 | 8 | 318 | 150 | 3436 | 11.0 | 70 | 1 | plymouth satellite        |\n",
       "| 4 | 16 | 8 | 304 | 150 | 3433 | 12.0 | 70 | 1 | amc rebel sst             |\n",
       "| 5 | 17 | 8 | 302 | 140 | 3449 | 10.5 | 70 | 1 | ford torino               |\n",
       "\n"
      ],
      "text/plain": [
       "  mpg cylinders displacement horsepower weight acceleration year origin\n",
       "1 18  8         307          130        3504   12.0         70   1     \n",
       "2 15  8         350          165        3693   11.5         70   1     \n",
       "3 18  8         318          150        3436   11.0         70   1     \n",
       "4 16  8         304          150        3433   12.0         70   1     \n",
       "5 17  8         302          140        3449   10.5         70   1     \n",
       "  name                     \n",
       "1 chevrolet chevelle malibu\n",
       "2 buick skylark 320        \n",
       "3 plymouth satellite       \n",
       "4 amc rebel sst            \n",
       "5 ford torino              "
      ]
     },
     "metadata": {},
     "output_type": "display_data"
    }
   ],
   "source": [
    "head(auto,5)"
   ]
  },
  {
   "cell_type": "code",
   "execution_count": 12,
   "metadata": {},
   "outputs": [],
   "source": [
    "# a) Which predictors are qualitative and quantitative?\n",
    "# qualitative: name, cylinders, origin (cylinders can be considered qualitative since there are only 3 values)\n",
    "# quantitative: mpg, displacement, horsepower, weight, acceleration, year"
   ]
  },
  {
   "cell_type": "code",
   "execution_count": 17,
   "metadata": {},
   "outputs": [
    {
     "data": {
      "text/html": [
       "<table>\n",
       "<caption>A matrix: 2 × 8 of type dbl</caption>\n",
       "<thead>\n",
       "\t<tr><th scope=col>mpg</th><th scope=col>cylinders</th><th scope=col>displacement</th><th scope=col>horsepower</th><th scope=col>weight</th><th scope=col>acceleration</th><th scope=col>year</th><th scope=col>origin</th></tr>\n",
       "</thead>\n",
       "<tbody>\n",
       "\t<tr><td> 9.0</td><td>3</td><td> 68</td><td> 46</td><td>1613</td><td> 8.0</td><td>70</td><td>1</td></tr>\n",
       "\t<tr><td>46.6</td><td>8</td><td>455</td><td>230</td><td>5140</td><td>24.8</td><td>82</td><td>3</td></tr>\n",
       "</tbody>\n",
       "</table>\n"
      ],
      "text/latex": [
       "A matrix: 2 × 8 of type dbl\n",
       "\\begin{tabular}{llllllll}\n",
       " mpg & cylinders & displacement & horsepower & weight & acceleration & year & origin\\\\\n",
       "\\hline\n",
       "\t  9.0 & 3 &  68 &  46 & 1613 &  8.0 & 70 & 1\\\\\n",
       "\t 46.6 & 8 & 455 & 230 & 5140 & 24.8 & 82 & 3\\\\\n",
       "\\end{tabular}\n"
      ],
      "text/markdown": [
       "\n",
       "A matrix: 2 × 8 of type dbl\n",
       "\n",
       "| mpg | cylinders | displacement | horsepower | weight | acceleration | year | origin |\n",
       "|---|---|---|---|---|---|---|---|\n",
       "|  9.0 | 3 |  68 |  46 | 1613 |  8.0 | 70 | 1 |\n",
       "| 46.6 | 8 | 455 | 230 | 5140 | 24.8 | 82 | 3 |\n",
       "\n"
      ],
      "text/plain": [
       "     mpg  cylinders displacement horsepower weight acceleration year origin\n",
       "[1,]  9.0 3          68           46        1613    8.0         70   1     \n",
       "[2,] 46.6 8         455          230        5140   24.8         82   3     "
      ]
     },
     "metadata": {},
     "output_type": "display_data"
    }
   ],
   "source": [
    "# b) What is the range of each quantitative predictor?\n",
    "# *need to specify columns as it will error out for names column*\n",
    "sapply(auto[, 1:8], range)"
   ]
  },
  {
   "cell_type": "code",
   "execution_count": 18,
   "metadata": {},
   "outputs": [
    {
     "data": {
      "text/html": [
       "<style>\n",
       ".dl-inline {width: auto; margin:0; padding: 0}\n",
       ".dl-inline>dt, .dl-inline>dd {float: none; width: auto; display: inline-block}\n",
       ".dl-inline>dt::after {content: \":\\0020\"; padding-right: .5ex}\n",
       ".dl-inline>dt:not(:first-of-type) {padding-left: .5ex}\n",
       "</style><dl class=dl-inline><dt>mpg</dt><dd>23.4459183673469</dd><dt>cylinders</dt><dd>5.4719387755102</dd><dt>displacement</dt><dd>194.411989795918</dd><dt>horsepower</dt><dd>104.469387755102</dd><dt>weight</dt><dd>2977.58418367347</dd><dt>acceleration</dt><dd>15.5413265306122</dd><dt>year</dt><dd>75.9795918367347</dd><dt>origin</dt><dd>1.5765306122449</dd></dl>\n"
      ],
      "text/latex": [
       "\\begin{description*}\n",
       "\\item[mpg] 23.4459183673469\n",
       "\\item[cylinders] 5.4719387755102\n",
       "\\item[displacement] 194.411989795918\n",
       "\\item[horsepower] 104.469387755102\n",
       "\\item[weight] 2977.58418367347\n",
       "\\item[acceleration] 15.5413265306122\n",
       "\\item[year] 75.9795918367347\n",
       "\\item[origin] 1.5765306122449\n",
       "\\end{description*}\n"
      ],
      "text/markdown": [
       "mpg\n",
       ":   23.4459183673469cylinders\n",
       ":   5.4719387755102displacement\n",
       ":   194.411989795918horsepower\n",
       ":   104.469387755102weight\n",
       ":   2977.58418367347acceleration\n",
       ":   15.5413265306122year\n",
       ":   75.9795918367347origin\n",
       ":   1.5765306122449\n",
       "\n"
      ],
      "text/plain": [
       "         mpg    cylinders displacement   horsepower       weight acceleration \n",
       "   23.445918     5.471939   194.411990   104.469388  2977.584184    15.541327 \n",
       "        year       origin \n",
       "   75.979592     1.576531 "
      ]
     },
     "metadata": {},
     "output_type": "display_data"
    }
   ],
   "source": [
    "# c) What is the mean and std dev of each quantitative predictor?\n",
    "sapply(auto[, 1:8], mean)"
   ]
  },
  {
   "cell_type": "code",
   "execution_count": 19,
   "metadata": {},
   "outputs": [
    {
     "data": {
      "text/html": [
       "<style>\n",
       ".dl-inline {width: auto; margin:0; padding: 0}\n",
       ".dl-inline>dt, .dl-inline>dd {float: none; width: auto; display: inline-block}\n",
       ".dl-inline>dt::after {content: \":\\0020\"; padding-right: .5ex}\n",
       ".dl-inline>dt:not(:first-of-type) {padding-left: .5ex}\n",
       "</style><dl class=dl-inline><dt>mpg</dt><dd>7.8050074865718</dd><dt>cylinders</dt><dd>1.70578324745278</dd><dt>displacement</dt><dd>104.644003908905</dd><dt>horsepower</dt><dd>38.4911599328285</dd><dt>weight</dt><dd>849.402560042949</dd><dt>acceleration</dt><dd>2.75886411918808</dd><dt>year</dt><dd>3.68373654357783</dd><dt>origin</dt><dd>0.805518183418306</dd></dl>\n"
      ],
      "text/latex": [
       "\\begin{description*}\n",
       "\\item[mpg] 7.8050074865718\n",
       "\\item[cylinders] 1.70578324745278\n",
       "\\item[displacement] 104.644003908905\n",
       "\\item[horsepower] 38.4911599328285\n",
       "\\item[weight] 849.402560042949\n",
       "\\item[acceleration] 2.75886411918808\n",
       "\\item[year] 3.68373654357783\n",
       "\\item[origin] 0.805518183418306\n",
       "\\end{description*}\n"
      ],
      "text/markdown": [
       "mpg\n",
       ":   7.8050074865718cylinders\n",
       ":   1.70578324745278displacement\n",
       ":   104.644003908905horsepower\n",
       ":   38.4911599328285weight\n",
       ":   849.402560042949acceleration\n",
       ":   2.75886411918808year\n",
       ":   3.68373654357783origin\n",
       ":   0.805518183418306\n",
       "\n"
      ],
      "text/plain": [
       "         mpg    cylinders displacement   horsepower       weight acceleration \n",
       "   7.8050075    1.7057832  104.6440039   38.4911599  849.4025600    2.7588641 \n",
       "        year       origin \n",
       "   3.6837365    0.8055182 "
      ]
     },
     "metadata": {},
     "output_type": "display_data"
    }
   ],
   "source": [
    "sapply(auto[, 1:8], sd)"
   ]
  },
  {
   "cell_type": "code",
   "execution_count": 3,
   "metadata": {},
   "outputs": [
    {
     "data": {
      "text/html": [
       "<style>\n",
       ".list-inline {list-style: none; margin:0; padding: 0}\n",
       ".list-inline>li {display: inline-block}\n",
       ".list-inline>li:not(:last-child)::after {content: \"\\00b7\"; padding: 0 .5ex}\n",
       "</style>\n",
       "<ol class=list-inline><li>316</li><li>9</li></ol>\n"
      ],
      "text/latex": [
       "\\begin{enumerate*}\n",
       "\\item 316\n",
       "\\item 9\n",
       "\\end{enumerate*}\n"
      ],
      "text/markdown": [
       "1. 316\n",
       "2. 9\n",
       "\n",
       "\n"
      ],
      "text/plain": [
       "[1] 316   9"
      ]
     },
     "metadata": {},
     "output_type": "display_data"
    }
   ],
   "source": [
    "# d) Remove the 10th and 85th observations. What is the range, mean, std dev\n",
    "# of each predictor in the subset of data that remains\n",
    "auto_sub = auto[-(10:85),]\n",
    "dim(auto_sub)"
   ]
  },
  {
   "cell_type": "code",
   "execution_count": 23,
   "metadata": {},
   "outputs": [
    {
     "data": {
      "text/html": [
       "<table>\n",
       "<caption>A matrix: 2 × 8 of type dbl</caption>\n",
       "<thead>\n",
       "\t<tr><th scope=col>mpg</th><th scope=col>cylinders</th><th scope=col>displacement</th><th scope=col>horsepower</th><th scope=col>weight</th><th scope=col>acceleration</th><th scope=col>year</th><th scope=col>origin</th></tr>\n",
       "</thead>\n",
       "<tbody>\n",
       "\t<tr><td>11.0</td><td>3</td><td> 68</td><td> 46</td><td>1649</td><td> 8.5</td><td>70</td><td>1</td></tr>\n",
       "\t<tr><td>46.6</td><td>8</td><td>455</td><td>230</td><td>4997</td><td>24.8</td><td>82</td><td>3</td></tr>\n",
       "</tbody>\n",
       "</table>\n"
      ],
      "text/latex": [
       "A matrix: 2 × 8 of type dbl\n",
       "\\begin{tabular}{llllllll}\n",
       " mpg & cylinders & displacement & horsepower & weight & acceleration & year & origin\\\\\n",
       "\\hline\n",
       "\t 11.0 & 3 &  68 &  46 & 1649 &  8.5 & 70 & 1\\\\\n",
       "\t 46.6 & 8 & 455 & 230 & 4997 & 24.8 & 82 & 3\\\\\n",
       "\\end{tabular}\n"
      ],
      "text/markdown": [
       "\n",
       "A matrix: 2 × 8 of type dbl\n",
       "\n",
       "| mpg | cylinders | displacement | horsepower | weight | acceleration | year | origin |\n",
       "|---|---|---|---|---|---|---|---|\n",
       "| 11.0 | 3 |  68 |  46 | 1649 |  8.5 | 70 | 1 |\n",
       "| 46.6 | 8 | 455 | 230 | 4997 | 24.8 | 82 | 3 |\n",
       "\n"
      ],
      "text/plain": [
       "     mpg  cylinders displacement horsepower weight acceleration year origin\n",
       "[1,] 11.0 3          68           46        1649    8.5         70   1     \n",
       "[2,] 46.6 8         455          230        4997   24.8         82   3     "
      ]
     },
     "metadata": {},
     "output_type": "display_data"
    }
   ],
   "source": [
    "sapply(auto_sub[, 1:8], range)"
   ]
  },
  {
   "cell_type": "code",
   "execution_count": 24,
   "metadata": {},
   "outputs": [
    {
     "data": {
      "text/html": [
       "<style>\n",
       ".dl-inline {width: auto; margin:0; padding: 0}\n",
       ".dl-inline>dt, .dl-inline>dd {float: none; width: auto; display: inline-block}\n",
       ".dl-inline>dt::after {content: \":\\0020\"; padding-right: .5ex}\n",
       ".dl-inline>dt:not(:first-of-type) {padding-left: .5ex}\n",
       "</style><dl class=dl-inline><dt>mpg</dt><dd>24.4044303797468</dd><dt>cylinders</dt><dd>5.37341772151899</dd><dt>displacement</dt><dd>187.240506329114</dd><dt>horsepower</dt><dd>100.721518987342</dd><dt>weight</dt><dd>2935.97151898734</dd><dt>acceleration</dt><dd>15.7268987341772</dd><dt>year</dt><dd>77.1455696202532</dd><dt>origin</dt><dd>1.60126582278481</dd></dl>\n"
      ],
      "text/latex": [
       "\\begin{description*}\n",
       "\\item[mpg] 24.4044303797468\n",
       "\\item[cylinders] 5.37341772151899\n",
       "\\item[displacement] 187.240506329114\n",
       "\\item[horsepower] 100.721518987342\n",
       "\\item[weight] 2935.97151898734\n",
       "\\item[acceleration] 15.7268987341772\n",
       "\\item[year] 77.1455696202532\n",
       "\\item[origin] 1.60126582278481\n",
       "\\end{description*}\n"
      ],
      "text/markdown": [
       "mpg\n",
       ":   24.4044303797468cylinders\n",
       ":   5.37341772151899displacement\n",
       ":   187.240506329114horsepower\n",
       ":   100.721518987342weight\n",
       ":   2935.97151898734acceleration\n",
       ":   15.7268987341772year\n",
       ":   77.1455696202532origin\n",
       ":   1.60126582278481\n",
       "\n"
      ],
      "text/plain": [
       "         mpg    cylinders displacement   horsepower       weight acceleration \n",
       "   24.404430     5.373418   187.240506   100.721519  2935.971519    15.726899 \n",
       "        year       origin \n",
       "   77.145570     1.601266 "
      ]
     },
     "metadata": {},
     "output_type": "display_data"
    }
   ],
   "source": [
    "sapply(auto_sub[, 1:8], mean)"
   ]
  },
  {
   "cell_type": "code",
   "execution_count": 25,
   "metadata": {},
   "outputs": [
    {
     "data": {
      "text/html": [
       "<style>\n",
       ".dl-inline {width: auto; margin:0; padding: 0}\n",
       ".dl-inline>dt, .dl-inline>dd {float: none; width: auto; display: inline-block}\n",
       ".dl-inline>dt::after {content: \":\\0020\"; padding-right: .5ex}\n",
       ".dl-inline>dt:not(:first-of-type) {padding-left: .5ex}\n",
       "</style><dl class=dl-inline><dt>mpg</dt><dd>7.86728282443069</dd><dt>cylinders</dt><dd>1.65417865185607</dd><dt>displacement</dt><dd>99.6783672303628</dd><dt>horsepower</dt><dd>35.7088532738003</dd><dt>weight</dt><dd>811.30020815829</dd><dt>acceleration</dt><dd>2.69372071752036</dd><dt>year</dt><dd>3.10621690872137</dd><dt>origin</dt><dd>0.819909971191933</dd></dl>\n"
      ],
      "text/latex": [
       "\\begin{description*}\n",
       "\\item[mpg] 7.86728282443069\n",
       "\\item[cylinders] 1.65417865185607\n",
       "\\item[displacement] 99.6783672303628\n",
       "\\item[horsepower] 35.7088532738003\n",
       "\\item[weight] 811.30020815829\n",
       "\\item[acceleration] 2.69372071752036\n",
       "\\item[year] 3.10621690872137\n",
       "\\item[origin] 0.819909971191933\n",
       "\\end{description*}\n"
      ],
      "text/markdown": [
       "mpg\n",
       ":   7.86728282443069cylinders\n",
       ":   1.65417865185607displacement\n",
       ":   99.6783672303628horsepower\n",
       ":   35.7088532738003weight\n",
       ":   811.30020815829acceleration\n",
       ":   2.69372071752036year\n",
       ":   3.10621690872137origin\n",
       ":   0.819909971191933\n",
       "\n"
      ],
      "text/plain": [
       "         mpg    cylinders displacement   horsepower       weight acceleration \n",
       "    7.867283     1.654179    99.678367    35.708853   811.300208     2.693721 \n",
       "        year       origin \n",
       "    3.106217     0.819910 "
      ]
     },
     "metadata": {},
     "output_type": "display_data"
    }
   ],
   "source": [
    "sapply(auto_sub[, 1:8], sd)"
   ]
  },
  {
   "cell_type": "code",
   "execution_count": 28,
   "metadata": {},
   "outputs": [
    {
     "data": {
      "image/png": "[encoded data removed]",
      "text/plain": [
       "plot without title"
      ]
     },
     "metadata": {
      "image/png": {
       "height": 420,
       "width": 420
      }
     },
     "output_type": "display_data"
    }
   ],
   "source": [
    "# e) Investigate the predictors graphically, using scatterplots \n",
    "# or other tools of your choice\n",
    "# There are strong negative relationships between mpg and displacement, horsepower, and weight\n",
    "# There are other strong positive and negative relationships among\n",
    "# displacement, horsepower, weight, and acceleration\n",
    "pairs(auto_sub[, 1:8])"
   ]
  },
  {
   "cell_type": "code",
   "execution_count": 4,
   "metadata": {},
   "outputs": [
    {
     "data": {
      "text/html": [
       "<table>\n",
       "<caption>A matrix: 8 × 8 of type dbl</caption>\n",
       "<thead>\n",
       "\t<tr><th></th><th scope=col>mpg</th><th scope=col>cylinders</th><th scope=col>displacement</th><th scope=col>horsepower</th><th scope=col>weight</th><th scope=col>acceleration</th><th scope=col>year</th><th scope=col>origin</th></tr>\n",
       "</thead>\n",
       "<tbody>\n",
       "\t<tr><th scope=row>mpg</th><td> 1.0000000</td><td>-0.7640731</td><td>-0.7970694</td><td>-0.7650215</td><td>-0.8324767</td><td> 0.3767761</td><td> 0.6133429</td><td> 0.5513856</td></tr>\n",
       "\t<tr><th scope=row>cylinders</th><td>-0.7640731</td><td> 1.0000000</td><td> 0.9451585</td><td> 0.8308769</td><td> 0.8870401</td><td>-0.4497513</td><td>-0.4066475</td><td>-0.5429178</td></tr>\n",
       "\t<tr><th scope=row>displacement</th><td>-0.7970694</td><td> 0.9451585</td><td> 1.0000000</td><td> 0.8938229</td><td> 0.9377165</td><td>-0.4785834</td><td>-0.4294738</td><td>-0.6015630</td></tr>\n",
       "\t<tr><th scope=row>horsepower</th><td>-0.7650215</td><td> 0.8308769</td><td> 0.8938229</td><td> 1.0000000</td><td> 0.8608698</td><td>-0.6740133</td><td>-0.4516703</td><td>-0.4454379</td></tr>\n",
       "\t<tr><th scope=row>weight</th><td>-0.8324767</td><td> 0.8870401</td><td> 0.9377165</td><td> 0.8608698</td><td> 1.0000000</td><td>-0.3559811</td><td>-0.3824411</td><td>-0.5794168</td></tr>\n",
       "\t<tr><th scope=row>acceleration</th><td> 0.3767761</td><td>-0.4497513</td><td>-0.4785834</td><td>-0.6740133</td><td>-0.3559811</td><td> 1.0000000</td><td> 0.2959990</td><td> 0.1754883</td></tr>\n",
       "\t<tr><th scope=row>year</th><td> 0.6133429</td><td>-0.4066475</td><td>-0.4294738</td><td>-0.4516703</td><td>-0.3824411</td><td> 0.2959990</td><td> 1.0000000</td><td> 0.2023587</td></tr>\n",
       "\t<tr><th scope=row>origin</th><td> 0.5513856</td><td>-0.5429178</td><td>-0.6015630</td><td>-0.4454379</td><td>-0.5794168</td><td> 0.1754883</td><td> 0.2023587</td><td> 1.0000000</td></tr>\n",
       "</tbody>\n",
       "</table>\n"
      ],
      "text/latex": [
       "A matrix: 8 × 8 of type dbl\n",
       "\\begin{tabular}{r|llllllll}\n",
       "  & mpg & cylinders & displacement & horsepower & weight & acceleration & year & origin\\\\\n",
       "\\hline\n",
       "\tmpg &  1.0000000 & -0.7640731 & -0.7970694 & -0.7650215 & -0.8324767 &  0.3767761 &  0.6133429 &  0.5513856\\\\\n",
       "\tcylinders & -0.7640731 &  1.0000000 &  0.9451585 &  0.8308769 &  0.8870401 & -0.4497513 & -0.4066475 & -0.5429178\\\\\n",
       "\tdisplacement & -0.7970694 &  0.9451585 &  1.0000000 &  0.8938229 &  0.9377165 & -0.4785834 & -0.4294738 & -0.6015630\\\\\n",
       "\thorsepower & -0.7650215 &  0.8308769 &  0.8938229 &  1.0000000 &  0.8608698 & -0.6740133 & -0.4516703 & -0.4454379\\\\\n",
       "\tweight & -0.8324767 &  0.8870401 &  0.9377165 &  0.8608698 &  1.0000000 & -0.3559811 & -0.3824411 & -0.5794168\\\\\n",
       "\tacceleration &  0.3767761 & -0.4497513 & -0.4785834 & -0.6740133 & -0.3559811 &  1.0000000 &  0.2959990 &  0.1754883\\\\\n",
       "\tyear &  0.6133429 & -0.4066475 & -0.4294738 & -0.4516703 & -0.3824411 &  0.2959990 &  1.0000000 &  0.2023587\\\\\n",
       "\torigin &  0.5513856 & -0.5429178 & -0.6015630 & -0.4454379 & -0.5794168 &  0.1754883 &  0.2023587 &  1.0000000\\\\\n",
       "\\end{tabular}\n"
      ],
      "text/markdown": [
       "\n",
       "A matrix: 8 × 8 of type dbl\n",
       "\n",
       "| <!--/--> | mpg | cylinders | displacement | horsepower | weight | acceleration | year | origin |\n",
       "|---|---|---|---|---|---|---|---|---|\n",
       "| mpg |  1.0000000 | -0.7640731 | -0.7970694 | -0.7650215 | -0.8324767 |  0.3767761 |  0.6133429 |  0.5513856 |\n",
       "| cylinders | -0.7640731 |  1.0000000 |  0.9451585 |  0.8308769 |  0.8870401 | -0.4497513 | -0.4066475 | -0.5429178 |\n",
       "| displacement | -0.7970694 |  0.9451585 |  1.0000000 |  0.8938229 |  0.9377165 | -0.4785834 | -0.4294738 | -0.6015630 |\n",
       "| horsepower | -0.7650215 |  0.8308769 |  0.8938229 |  1.0000000 |  0.8608698 | -0.6740133 | -0.4516703 | -0.4454379 |\n",
       "| weight | -0.8324767 |  0.8870401 |  0.9377165 |  0.8608698 |  1.0000000 | -0.3559811 | -0.3824411 | -0.5794168 |\n",
       "| acceleration |  0.3767761 | -0.4497513 | -0.4785834 | -0.6740133 | -0.3559811 |  1.0000000 |  0.2959990 |  0.1754883 |\n",
       "| year |  0.6133429 | -0.4066475 | -0.4294738 | -0.4516703 | -0.3824411 |  0.2959990 |  1.0000000 |  0.2023587 |\n",
       "| origin |  0.5513856 | -0.5429178 | -0.6015630 | -0.4454379 | -0.5794168 |  0.1754883 |  0.2023587 |  1.0000000 |\n",
       "\n"
      ],
      "text/plain": [
       "             mpg        cylinders  displacement horsepower weight    \n",
       "mpg           1.0000000 -0.7640731 -0.7970694   -0.7650215 -0.8324767\n",
       "cylinders    -0.7640731  1.0000000  0.9451585    0.8308769  0.8870401\n",
       "displacement -0.7970694  0.9451585  1.0000000    0.8938229  0.9377165\n",
       "horsepower   -0.7650215  0.8308769  0.8938229    1.0000000  0.8608698\n",
       "weight       -0.8324767  0.8870401  0.9377165    0.8608698  1.0000000\n",
       "acceleration  0.3767761 -0.4497513 -0.4785834   -0.6740133 -0.3559811\n",
       "year          0.6133429 -0.4066475 -0.4294738   -0.4516703 -0.3824411\n",
       "origin        0.5513856 -0.5429178 -0.6015630   -0.4454379 -0.5794168\n",
       "             acceleration year       origin    \n",
       "mpg           0.3767761    0.6133429  0.5513856\n",
       "cylinders    -0.4497513   -0.4066475 -0.5429178\n",
       "displacement -0.4785834   -0.4294738 -0.6015630\n",
       "horsepower   -0.6740133   -0.4516703 -0.4454379\n",
       "weight       -0.3559811   -0.3824411 -0.5794168\n",
       "acceleration  1.0000000    0.2959990  0.1754883\n",
       "year          0.2959990    1.0000000  0.2023587\n",
       "origin        0.1754883    0.2023587  1.0000000"
      ]
     },
     "metadata": {},
     "output_type": "display_data"
    }
   ],
   "source": [
    "cor(auto_sub[, 1:8])"
   ]
  },
  {
   "cell_type": "code",
   "execution_count": 30,
   "metadata": {},
   "outputs": [
    {
     "data": {
      "text/plain": [
       "      mpg          cylinders      displacement     horsepower        weight    \n",
       " Min.   :11.00   Min.   :3.000   Min.   : 68.0   Min.   : 46.0   Min.   :1649  \n",
       " 1st Qu.:18.00   1st Qu.:4.000   1st Qu.:100.2   1st Qu.: 75.0   1st Qu.:2214  \n",
       " Median :23.95   Median :4.000   Median :145.5   Median : 90.0   Median :2792  \n",
       " Mean   :24.40   Mean   :5.373   Mean   :187.2   Mean   :100.7   Mean   :2936  \n",
       " 3rd Qu.:30.55   3rd Qu.:6.000   3rd Qu.:250.0   3rd Qu.:115.0   3rd Qu.:3508  \n",
       " Max.   :46.60   Max.   :8.000   Max.   :455.0   Max.   :230.0   Max.   :4997  \n",
       "  acceleration        year           origin          name          \n",
       " Min.   : 8.50   Min.   :70.00   Min.   :1.000   Length:316        \n",
       " 1st Qu.:14.00   1st Qu.:75.00   1st Qu.:1.000   Class :character  \n",
       " Median :15.50   Median :77.00   Median :1.000   Mode  :character  \n",
       " Mean   :15.73   Mean   :77.15   Mean   :1.601                     \n",
       " 3rd Qu.:17.30   3rd Qu.:80.00   3rd Qu.:2.000                     \n",
       " Max.   :24.80   Max.   :82.00   Max.   :3.000                     "
      ]
     },
     "metadata": {},
     "output_type": "display_data"
    }
   ],
   "source": [
    "# checking to see how strong the relationships are between the variables\n",
    "summary(auto_sub)"
   ]
  },
  {
   "cell_type": "code",
   "execution_count": 31,
   "metadata": {},
   "outputs": [
    {
     "data": {
      "image/png": "[encoded data removed]",
      "text/plain": [
       "plot without title"
      ]
     },
     "metadata": {
      "image/png": {
       "height": 420,
       "width": 420
      }
     },
     "output_type": "display_data"
    }
   ],
   "source": [
    "# mpg decreases as weight increases - a heavy weighted car will get less gas mileage\n",
    "plot(auto_sub$weight, auto_sub$mpg)"
   ]
  },
  {
   "cell_type": "code",
   "execution_count": 32,
   "metadata": {},
   "outputs": [
    {
     "data": {
      "image/png": "[encoded data removed]",
      "text/plain": [
       "plot without title"
      ]
     },
     "metadata": {
      "image/png": {
       "height": 420,
       "width": 420
      }
     },
     "output_type": "display_data"
    }
   ],
   "source": [
    "# in general, mpg has been improving each year, however there is a lot of\n",
    "# variance by car\n",
    "plot(auto_sub$year, auto_sub$mpg)"
   ]
  },
  {
   "cell_type": "code",
   "execution_count": 33,
   "metadata": {},
   "outputs": [
    {
     "data": {
      "image/png": "[encoded data removed]",
      "text/plain": [
       "plot without title"
      ]
     },
     "metadata": {
      "image/png": {
       "height": 420,
       "width": 420
      }
     },
     "output_type": "display_data"
    }
   ],
   "source": [
    "# there is a strong positive relationship between weight and horsepower\n",
    "# the heavier a car is, the more horsepower it tends to have\n",
    "plot(auto_sub$weight, auto_sub$horsepower)"
   ]
  },
  {
   "cell_type": "code",
   "execution_count": 35,
   "metadata": {},
   "outputs": [
    {
     "data": {
      "image/png": "[encoded data removed]",
      "text/plain": [
       "Plot with title \"Histogram of auto_sub$mpg\""
      ]
     },
     "metadata": {
      "image/png": {
       "height": 420,
       "width": 420
      }
     },
     "output_type": "display_data"
    }
   ],
   "source": [
    "# there is a lot of variance in mpg\n",
    "hist(auto_sub$mpg, breaks=100)"
   ]
  },
  {
   "cell_type": "code",
   "execution_count": null,
   "metadata": {},
   "outputs": [],
   "source": [
    "# f) do any of your plots suggest that any other variables might be useful\n",
    "# in predicting mpg?\n",
    "# Yes, there are strong negative relationships between mpg and \n",
    "# displacement, horsepower, and weight"
   ]
  }
 ],
 "metadata": {
  "kernelspec": {
   "display_name": "R",
   "language": "R",
   "name": "ir"
  },
  "language_info": {
   "codemirror_mode": "r",
   "file_extension": ".r",
   "mimetype": "text/x-r-source",
   "name": "R",
   "pygments_lexer": "r",
   "version": "4.0.3"
  }
 },
 "nbformat": 4,
 "nbformat_minor": 4
}
